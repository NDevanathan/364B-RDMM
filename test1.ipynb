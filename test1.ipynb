{
 "cells": [
  {
   "cell_type": "code",
   "execution_count": 43,
   "id": "4f24f3cd",
   "metadata": {},
   "outputs": [],
   "source": [
    "include(\"RDMM.jl\")\n",
    "using LinearAlgebra\n",
    "using Random\n",
    "using Statistics"
   ]
  },
  {
   "cell_type": "code",
   "execution_count": 44,
   "id": "980a7391",
   "metadata": {},
   "outputs": [],
   "source": [
    "Random.seed!(1);"
   ]
  },
  {
   "cell_type": "code",
   "execution_count": 45,
   "id": "22299704",
   "metadata": {},
   "outputs": [],
   "source": [
    "n = 128\n",
    "d = 8\n",
    "N = 4\n",
    "\n",
    "A = rand(n, d)\n",
    "b = rand(n, 1);"
   ]
  },
  {
   "cell_type": "code",
   "execution_count": 46,
   "id": "a0b671f8",
   "metadata": {},
   "outputs": [],
   "source": [
    "x=A\\b;"
   ]
  },
  {
   "cell_type": "code",
   "execution_count": 47,
   "id": "83b26389",
   "metadata": {},
   "outputs": [],
   "source": [
    "x2,lam = rdmm_ls(A,b,N,100);"
   ]
  },
  {
   "cell_type": "code",
   "execution_count": 48,
   "id": "a997d308",
   "metadata": {},
   "outputs": [
    {
     "data": {
      "text/plain": [
       "3.442598535190156"
      ]
     },
     "execution_count": 48,
     "metadata": {},
     "output_type": "execute_result"
    }
   ],
   "source": [
    "norm(b-A*x)"
   ]
  },
  {
   "cell_type": "code",
   "execution_count": 49,
   "id": "3b9ed3db",
   "metadata": {},
   "outputs": [
    {
     "data": {
      "text/plain": [
       "3.442598535190675"
      ]
     },
     "execution_count": 49,
     "metadata": {},
     "output_type": "execute_result"
    }
   ],
   "source": [
    "norm(b-A*x2)"
   ]
  },
  {
   "cell_type": "code",
   "execution_count": 50,
   "id": "4ec0ac9d",
   "metadata": {},
   "outputs": [
    {
     "data": {
      "text/plain": [
       "4-element Vector{Matrix{Float64}}:\n",
       " [-0.15857124772930178; -0.2156867136241501; … ; -0.35849154298296326; 0.013072318364097375;;]\n",
       " [-1.0822025528828578; -0.7948525097931405; … ; -0.9994121812599602; -1.555952431862496;;]\n",
       " [0.34675599858689027; 0.11264755684413147; … ; 0.5745257294389549; 0.23419460551942592;;]\n",
       " [0.8940248531413527; 0.8978991661583374; … ; 0.7833830342451332; 1.308692964026432;;]"
      ]
     },
     "execution_count": 50,
     "metadata": {},
     "output_type": "execute_result"
    }
   ],
   "source": [
    "lam"
   ]
  },
  {
   "cell_type": "code",
   "execution_count": null,
   "id": "e2f85910",
   "metadata": {},
   "outputs": [],
   "source": []
  },
  {
   "cell_type": "code",
   "execution_count": null,
   "id": "9d0ea160",
   "metadata": {},
   "outputs": [],
   "source": []
  }
 ],
 "metadata": {
  "kernelspec": {
   "display_name": "Julia 1.6.3",
   "language": "julia",
   "name": "julia-1.6"
  },
  "language_info": {
   "file_extension": ".jl",
   "mimetype": "application/julia",
   "name": "julia",
   "version": "1.7.1"
  }
 },
 "nbformat": 4,
 "nbformat_minor": 5
}
