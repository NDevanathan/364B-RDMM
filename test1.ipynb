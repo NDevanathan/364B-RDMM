{
 "cells": [
  {
   "cell_type": "code",
   "execution_count": 1,
   "id": "4f24f3cd",
   "metadata": {},
   "outputs": [],
   "source": [
    "include(\"RDMM.jl\")\n",
    "using LinearAlgebra\n",
    "using Random\n",
    "using DelimitedFiles\n",
    "using BenchmarkTools"
   ]
  },
  {
   "cell_type": "code",
   "execution_count": 2,
   "id": "980a7391",
   "metadata": {},
   "outputs": [],
   "source": [
    "Random.seed!(1);"
   ]
  },
  {
   "cell_type": "code",
   "execution_count": 3,
   "id": "22299704",
   "metadata": {},
   "outputs": [],
   "source": [
    "n = 90\n",
    "N = 463715\n",
    "y = []\n",
    "A = zeros(N,n)\n",
    "workers = 8\n",
    "\n",
    "open(\"YearPredictionMSD.dat\") do dataFile\n",
    "    i = 1\n",
    "    while ! eof(dataFile)\n",
    "        line = readline(dataFile)\n",
    "        elms = split(line,' ')\n",
    "        \n",
    "        push!(y,parse(Float64,elms[1]))\n",
    "        for j=2:size(elms,1)\n",
    "            if elms[j] != \"\"\n",
    "                sparse = split(elms[j],':')\n",
    "                A[i,parse(Int,sparse[1])] = parse(Float64,sparse[2])\n",
    "            end\n",
    "        end\n",
    "        i += 1\n",
    "    end\n",
    "end\n",
    "y = real(y);"
   ]
  },
  {
   "cell_type": "code",
   "execution_count": 4,
   "id": "78f5c4fc",
   "metadata": {},
   "outputs": [
    {
     "name": "stdout",
     "output_type": "stream",
     "text": [
      "  354.248 ms (340 allocations: 650.33 MiB)\n"
     ]
    },
    {
     "data": {
      "text/plain": [
       "90×1 Matrix{Float64}:\n",
       " 37.29653384394671\n",
       " -1.6404384980523208\n",
       " -0.05584237131292724\n",
       " -0.02092802614934186\n",
       " -0.47912534310934696\n",
       " -4.429128917191587\n",
       " -2.353867695009722\n",
       " -0.0799266809915209\n",
       " -2.541766632987297\n",
       "  2.2246692070312477\n",
       " -7.774672805270129\n",
       "  3.5875183209872343\n",
       "  1.150444089494913\n",
       "  ⋮\n",
       "  0.039454997398193914\n",
       " -0.004689270067582241\n",
       "  0.5101041702376179\n",
       " -0.03339465298329136\n",
       " -0.08795651592589349\n",
       " -0.05938005947140637\n",
       " -0.40013430579700027\n",
       "  0.10656944618136521\n",
       "  0.009497169157296814\n",
       "  1.0029829909494872\n",
       " -0.009240521354394467\n",
       "  0.03125450244328798"
      ]
     },
     "execution_count": 4,
     "metadata": {},
     "output_type": "execute_result"
    }
   ],
   "source": [
    "x2,lam = @btime rdmm_ls(A,y,workers,rflag=false)"
   ]
  },
  {
   "cell_type": "code",
   "execution_count": 5,
   "id": "e2f85910",
   "metadata": {},
   "outputs": [
    {
     "name": "stdout",
     "output_type": "stream",
     "text": [
      "  2.366 s (453 allocations: 1.27 GiB)\n"
     ]
    },
    {
     "data": {
      "text/plain": [
       "90×1 Matrix{Float64}:\n",
       " 37.3196232326151\n",
       " -1.6440195181055794\n",
       " -0.05695186588473078\n",
       " -0.019892271013745244\n",
       " -0.4746169484153002\n",
       " -4.415592077031572\n",
       " -2.363080873159099\n",
       " -0.03441502327500423\n",
       " -2.5546030376936244\n",
       "  2.2604753689940935\n",
       " -7.759959533053802\n",
       "  3.5937089563731917\n",
       "  1.1510817204187092\n",
       "  ⋮\n",
       "  0.039440050838383645\n",
       " -0.00470072493503404\n",
       "  0.5122049288845907\n",
       " -0.0333655110367761\n",
       " -0.0868554235746889\n",
       " -0.059816608441688235\n",
       " -0.4067432343551809\n",
       "  0.10593478139150103\n",
       "  0.009554686050919178\n",
       "  1.0076337474004724\n",
       " -0.00888466183937946\n",
       "  0.028015556541066564"
      ]
     },
     "execution_count": 5,
     "metadata": {},
     "output_type": "execute_result"
    }
   ],
   "source": [
    "x3,lam = @btime rdmm_ls(A,y,workers)"
   ]
  },
  {
   "cell_type": "code",
   "execution_count": 6,
   "id": "c2fa7bdc",
   "metadata": {},
   "outputs": [
    {
     "name": "stdout",
     "output_type": "stream",
     "text": [
      "  2.657 s (567 allocations: 322.20 MiB)\n"
     ]
    },
    {
     "data": {
      "text/plain": [
       "90-element Vector{Float64}:\n",
       " 37.31988549991181\n",
       " -1.6442108406849085\n",
       " -0.05741080714922644\n",
       " -0.01814622045988183\n",
       " -0.47501221151317835\n",
       " -4.416818026168529\n",
       " -2.3644614223173988\n",
       " -0.03290520828989307\n",
       " -2.5565304068483377\n",
       "  2.2585129014131398\n",
       " -7.766192954882031\n",
       "  3.5947570040459644\n",
       "  1.1503668438259116\n",
       "  ⋮\n",
       "  0.03953089795270607\n",
       " -0.0046675660948518275\n",
       "  0.5127041952626832\n",
       " -0.03331738254930598\n",
       " -0.08667893003614416\n",
       " -0.05984078335229915\n",
       " -0.4064278445328816\n",
       "  0.10589249564732504\n",
       "  0.009486588384810814\n",
       "  1.0066031910184399\n",
       " -0.008952057118286142\n",
       "  0.028463754649159883"
      ]
     },
     "execution_count": 6,
     "metadata": {},
     "output_type": "execute_result"
    }
   ],
   "source": [
    "x1 = @btime A\\y"
   ]
  },
  {
   "cell_type": "code",
   "execution_count": null,
   "id": "d419e657",
   "metadata": {},
   "outputs": [],
   "source": []
  }
 ],
 "metadata": {
  "kernelspec": {
   "display_name": "Julia 1.6.3",
   "language": "julia",
   "name": "julia-1.6"
  },
  "language_info": {
   "file_extension": ".jl",
   "mimetype": "application/julia",
   "name": "julia",
   "version": "1.7.1"
  }
 },
 "nbformat": 4,
 "nbformat_minor": 5
}
