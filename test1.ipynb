{
 "cells": [
  {
   "cell_type": "code",
   "execution_count": 20,
   "id": "4f24f3cd",
   "metadata": {},
   "outputs": [],
   "source": [
    "include(\"RDMM.jl\")\n",
    "using LinearAlgebra\n",
    "using Random"
   ]
  },
  {
   "cell_type": "code",
   "execution_count": 21,
   "id": "980a7391",
   "metadata": {},
   "outputs": [],
   "source": [
    "Random.seed!(1);"
   ]
  },
  {
   "cell_type": "code",
   "execution_count": 22,
   "id": "22299704",
   "metadata": {},
   "outputs": [],
   "source": [
    "n = 64\n",
    "d = 8\n",
    "N = 1\n",
    "\n",
    "A = rand(n, d)\n",
    "b = rand(n, 1);"
   ]
  },
  {
   "cell_type": "code",
   "execution_count": 23,
   "id": "a0b671f8",
   "metadata": {},
   "outputs": [
    {
     "data": {
      "text/plain": [
       "8×1 Matrix{Float64}:\n",
       "  0.0540988050823489\n",
       "  0.154336134659713\n",
       "  0.2553050550059142\n",
       "  0.17024117932905616\n",
       " -0.06442885925312788\n",
       "  0.31664141165083187\n",
       "  0.015296140591843454\n",
       "  0.08968849972303265"
      ]
     },
     "execution_count": 23,
     "metadata": {},
     "output_type": "execute_result"
    }
   ],
   "source": [
    "x=A\\b"
   ]
  },
  {
   "cell_type": "code",
   "execution_count": 26,
   "id": "83b26389",
   "metadata": {},
   "outputs": [
    {
     "data": {
      "text/plain": [
       "8×1 Matrix{Float64}:\n",
       "  0.054098805082349\n",
       "  0.15433613465971327\n",
       "  0.25530505500591405\n",
       "  0.17024117932905564\n",
       " -0.06442885925312741\n",
       "  0.31664141165083165\n",
       "  0.01529614059184325\n",
       "  0.08968849972303299"
      ]
     },
     "execution_count": 26,
     "metadata": {},
     "output_type": "execute_result"
    }
   ],
   "source": [
    "x2 = rdmm_ls(A,b,N,1000,0.1)[1]"
   ]
  },
  {
   "cell_type": "code",
   "execution_count": 31,
   "id": "a997d308",
   "metadata": {},
   "outputs": [
    {
     "data": {
      "text/plain": [
       "2.3574653873550817"
      ]
     },
     "execution_count": 31,
     "metadata": {},
     "output_type": "execute_result"
    }
   ],
   "source": [
    "norm(b-A*x)"
   ]
  },
  {
   "cell_type": "code",
   "execution_count": 32,
   "id": "3b9ed3db",
   "metadata": {},
   "outputs": [
    {
     "data": {
      "text/plain": [
       "2.3574653873550817"
      ]
     },
     "execution_count": 32,
     "metadata": {},
     "output_type": "execute_result"
    }
   ],
   "source": [
    "norm(b-A*x2)"
   ]
  },
  {
   "cell_type": "code",
   "execution_count": 33,
   "id": "f173841e",
   "metadata": {},
   "outputs": [
    {
     "data": {
      "text/plain": [
       "2.3574653873550817"
      ]
     },
     "execution_count": 33,
     "metadata": {},
     "output_type": "execute_result"
    }
   ],
   "source": [
    "norm(b-A*x3)"
   ]
  },
  {
   "cell_type": "code",
   "execution_count": 27,
   "id": "81f6cda6",
   "metadata": {},
   "outputs": [
    {
     "data": {
      "text/plain": [
       "8×1 Matrix{Float64}:\n",
       "  0.054098805082348767\n",
       "  0.1543361346597127\n",
       "  0.2553050550059144\n",
       "  0.17024117932905644\n",
       " -0.0644288592531282\n",
       "  0.31664141165083204\n",
       "  0.015296140591843529\n",
       "  0.0896884997230328"
      ]
     },
     "execution_count": 27,
     "metadata": {},
     "output_type": "execute_result"
    }
   ],
   "source": [
    "x3 = rdmm_ls(A,b,N,1000,0.0001, rflag=false)[1]"
   ]
  },
  {
   "cell_type": "code",
   "execution_count": null,
   "id": "c4bef6fe",
   "metadata": {},
   "outputs": [],
   "source": []
  }
 ],
 "metadata": {
  "kernelspec": {
   "display_name": "Julia 1.6.3",
   "language": "julia",
   "name": "julia-1.6"
  },
  "language_info": {
   "file_extension": ".jl",
   "mimetype": "application/julia",
   "name": "julia",
   "version": "1.7.1"
  }
 },
 "nbformat": 4,
 "nbformat_minor": 5
}
