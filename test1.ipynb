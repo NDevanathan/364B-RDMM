{
 "cells": [
  {
   "cell_type": "code",
   "execution_count": 168,
   "id": "4f24f3cd",
   "metadata": {},
   "outputs": [],
   "source": [
    "include(\"RDMM.jl\")\n",
    "using LinearAlgebra\n",
    "using Random\n",
    "using Statistics"
   ]
  },
  {
   "cell_type": "code",
   "execution_count": 169,
   "id": "980a7391",
   "metadata": {},
   "outputs": [],
   "source": [
    "Random.seed!(1);"
   ]
  },
  {
   "cell_type": "code",
   "execution_count": 170,
   "id": "22299704",
   "metadata": {},
   "outputs": [],
   "source": [
    "n = 64\n",
    "d = 8\n",
    "N = 2\n",
    "\n",
    "A = rand(n, d)\n",
    "b = rand(n, 1);"
   ]
  },
  {
   "cell_type": "code",
   "execution_count": 171,
   "id": "a0b671f8",
   "metadata": {},
   "outputs": [],
   "source": [
    "x=A\\b;"
   ]
  },
  {
   "cell_type": "code",
   "execution_count": 172,
   "id": "83b26389",
   "metadata": {},
   "outputs": [],
   "source": [
    "x2,lam = rdmm_ls(A,b,N,100,1);"
   ]
  },
  {
   "cell_type": "code",
   "execution_count": 173,
   "id": "a997d308",
   "metadata": {},
   "outputs": [
    {
     "data": {
      "text/plain": [
       "2.3574653873550817"
      ]
     },
     "execution_count": 173,
     "metadata": {},
     "output_type": "execute_result"
    }
   ],
   "source": [
    "norm(b-A*x)"
   ]
  },
  {
   "cell_type": "code",
   "execution_count": 174,
   "id": "3b9ed3db",
   "metadata": {},
   "outputs": [
    {
     "data": {
      "text/plain": [
       "2.3574653873550817"
      ]
     },
     "execution_count": 174,
     "metadata": {},
     "output_type": "execute_result"
    }
   ],
   "source": [
    "norm(b-A*x2)"
   ]
  },
  {
   "cell_type": "code",
   "execution_count": 175,
   "id": "e68bf5a8",
   "metadata": {},
   "outputs": [
    {
     "data": {
      "text/plain": [
       "8×1 Matrix{Float64}:\n",
       " 1.145295276818789\n",
       " 1.1070886281767836\n",
       " 1.1074736780404728\n",
       " 0.6522454994325031\n",
       " 1.0284585906251542\n",
       " 0.4362918893268116\n",
       " 0.417811832756338\n",
       " 0.7014478143766774"
      ]
     },
     "execution_count": 175,
     "metadata": {},
     "output_type": "execute_result"
    }
   ],
   "source": [
    "lam"
   ]
  },
  {
   "cell_type": "code",
   "execution_count": null,
   "id": "4654b302",
   "metadata": {},
   "outputs": [],
   "source": []
  },
  {
   "cell_type": "code",
   "execution_count": null,
   "id": "0e5b9c1d",
   "metadata": {},
   "outputs": [],
   "source": []
  }
 ],
 "metadata": {
  "kernelspec": {
   "display_name": "Julia 1.6.3",
   "language": "julia",
   "name": "julia-1.6"
  },
  "language_info": {
   "file_extension": ".jl",
   "mimetype": "application/julia",
   "name": "julia",
   "version": "1.7.1"
  }
 },
 "nbformat": 4,
 "nbformat_minor": 5
}
