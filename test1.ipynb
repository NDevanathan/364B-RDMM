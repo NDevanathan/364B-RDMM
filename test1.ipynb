{
 "cells": [
  {
   "cell_type": "code",
   "execution_count": 445,
   "id": "4f24f3cd",
   "metadata": {},
   "outputs": [],
   "source": [
    "include(\"RDMM.jl\")\n",
    "using LinearAlgebra\n",
    "using Random\n",
    "using Statistics"
   ]
  },
  {
   "cell_type": "code",
   "execution_count": 446,
   "id": "980a7391",
   "metadata": {},
   "outputs": [],
   "source": [
    "Random.seed!(1);"
   ]
  },
  {
   "cell_type": "code",
   "execution_count": 447,
   "id": "22299704",
   "metadata": {},
   "outputs": [],
   "source": [
    "n = 64\n",
    "d = 8\n",
    "N = 2\n",
    "\n",
    "A = rand(n, d)\n",
    "b = rand(n, 1);"
   ]
  },
  {
   "cell_type": "code",
   "execution_count": 448,
   "id": "a0b671f8",
   "metadata": {},
   "outputs": [],
   "source": [
    "x=A\\b;"
   ]
  },
  {
   "cell_type": "code",
   "execution_count": 449,
   "id": "83b26389",
   "metadata": {},
   "outputs": [],
   "source": [
    "x2 = rdmm_ls(A,b,N,100,1)[1];"
   ]
  },
  {
   "cell_type": "code",
   "execution_count": 450,
   "id": "a997d308",
   "metadata": {},
   "outputs": [
    {
     "data": {
      "text/plain": [
       "2.3574653873550817"
      ]
     },
     "execution_count": 450,
     "metadata": {},
     "output_type": "execute_result"
    }
   ],
   "source": [
    "norm(b-A*x)"
   ]
  },
  {
   "cell_type": "code",
   "execution_count": 451,
   "id": "3b9ed3db",
   "metadata": {},
   "outputs": [
    {
     "data": {
      "text/plain": [
       "2.365493941822266"
      ]
     },
     "execution_count": 451,
     "metadata": {},
     "output_type": "execute_result"
    }
   ],
   "source": [
    "norm(b-A*x2)"
   ]
  },
  {
   "cell_type": "code",
   "execution_count": null,
   "id": "0fa2ba6d",
   "metadata": {},
   "outputs": [],
   "source": []
  },
  {
   "cell_type": "code",
   "execution_count": null,
   "id": "34536236",
   "metadata": {},
   "outputs": [],
   "source": []
  }
 ],
 "metadata": {
  "kernelspec": {
   "display_name": "Julia 1.6.3",
   "language": "julia",
   "name": "julia-1.6"
  },
  "language_info": {
   "file_extension": ".jl",
   "mimetype": "application/julia",
   "name": "julia",
   "version": "1.7.1"
  }
 },
 "nbformat": 4,
 "nbformat_minor": 5
}
