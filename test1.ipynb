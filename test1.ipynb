{
 "cells": [
  {
   "cell_type": "code",
   "execution_count": 407,
   "id": "4f24f3cd",
   "metadata": {},
   "outputs": [],
   "source": [
    "include(\"RDMM.jl\")\n",
    "using LinearAlgebra\n",
    "using Random\n",
    "using Statistics"
   ]
  },
  {
   "cell_type": "code",
   "execution_count": 408,
   "id": "980a7391",
   "metadata": {},
   "outputs": [],
   "source": [
    "Random.seed!(1);"
   ]
  },
  {
   "cell_type": "code",
   "execution_count": 409,
   "id": "22299704",
   "metadata": {},
   "outputs": [],
   "source": [
    "n = 64\n",
    "d = 8\n",
    "N = 2\n",
    "\n",
    "A = rand(n, d)\n",
    "b = rand(n, 1);"
   ]
  },
  {
   "cell_type": "code",
   "execution_count": 410,
   "id": "a0b671f8",
   "metadata": {},
   "outputs": [],
   "source": [
    "x=A\\b;"
   ]
  },
  {
   "cell_type": "code",
   "execution_count": 411,
   "id": "83b26389",
   "metadata": {},
   "outputs": [],
   "source": [
    "x2 = rdmm_ls(A,b,N,100,1)[1];"
   ]
  },
  {
   "cell_type": "code",
   "execution_count": 397,
   "id": "0ff2a611",
   "metadata": {},
   "outputs": [],
   "source": [
    "x3 = rdmm_ls_regularized1(A,b,N,100,0.1)[1];"
   ]
  },
  {
   "cell_type": "code",
   "execution_count": 398,
   "id": "2e659800",
   "metadata": {},
   "outputs": [],
   "source": [
    "x4 = rdmm_ls_regularized2(A,b,N,100,0.1)[1];"
   ]
  },
  {
   "cell_type": "code",
   "execution_count": 399,
   "id": "70b67539",
   "metadata": {},
   "outputs": [],
   "source": [
    "x5 = rdmm_ls_regularized3(A,b,N,100,0.1)[1];"
   ]
  },
  {
   "cell_type": "code",
   "execution_count": 400,
   "id": "e2ca68b4",
   "metadata": {},
   "outputs": [],
   "source": [
    "x6 = rdmm_ls_regularized4(A,b,N,100,0.1)[1];"
   ]
  },
  {
   "cell_type": "code",
   "execution_count": 412,
   "id": "a997d308",
   "metadata": {},
   "outputs": [
    {
     "data": {
      "text/plain": [
       "2.3574653873550817"
      ]
     },
     "execution_count": 412,
     "metadata": {},
     "output_type": "execute_result"
    }
   ],
   "source": [
    "norm(b-A*x)"
   ]
  },
  {
   "cell_type": "code",
   "execution_count": 413,
   "id": "3b9ed3db",
   "metadata": {},
   "outputs": [
    {
     "data": {
      "text/plain": [
       "2.365493941822266"
      ]
     },
     "execution_count": 413,
     "metadata": {},
     "output_type": "execute_result"
    }
   ],
   "source": [
    "norm(b-A*x2)"
   ]
  },
  {
   "cell_type": "code",
   "execution_count": 403,
   "id": "f173841e",
   "metadata": {},
   "outputs": [
    {
     "data": {
      "text/plain": [
       "1.6913257424267416e193"
      ]
     },
     "execution_count": 403,
     "metadata": {},
     "output_type": "execute_result"
    }
   ],
   "source": [
    "norm(b-A*x3)"
   ]
  },
  {
   "cell_type": "code",
   "execution_count": 404,
   "id": "81f6cda6",
   "metadata": {},
   "outputs": [
    {
     "data": {
      "text/plain": [
       "1.1386577884022582e191"
      ]
     },
     "execution_count": 404,
     "metadata": {},
     "output_type": "execute_result"
    }
   ],
   "source": [
    "norm(b-A*x4)"
   ]
  },
  {
   "cell_type": "code",
   "execution_count": 405,
   "id": "b28c3905",
   "metadata": {},
   "outputs": [
    {
     "data": {
      "text/plain": [
       "2.3748677704770014"
      ]
     },
     "execution_count": 405,
     "metadata": {},
     "output_type": "execute_result"
    }
   ],
   "source": [
    "norm(b-A*x5)"
   ]
  },
  {
   "cell_type": "code",
   "execution_count": 406,
   "id": "c4bef6fe",
   "metadata": {},
   "outputs": [
    {
     "data": {
      "text/plain": [
       "2.377805142333206"
      ]
     },
     "execution_count": 406,
     "metadata": {},
     "output_type": "execute_result"
    }
   ],
   "source": [
    "norm(b-A*x6)"
   ]
  },
  {
   "cell_type": "code",
   "execution_count": null,
   "id": "e9453934",
   "metadata": {},
   "outputs": [],
   "source": []
  },
  {
   "cell_type": "code",
   "execution_count": null,
   "id": "73e99599",
   "metadata": {},
   "outputs": [],
   "source": []
  }
 ],
 "metadata": {
  "kernelspec": {
   "display_name": "Julia 1.6.3",
   "language": "julia",
   "name": "julia-1.6"
  },
  "language_info": {
   "file_extension": ".jl",
   "mimetype": "application/julia",
   "name": "julia",
   "version": "1.7.1"
  }
 },
 "nbformat": 4,
 "nbformat_minor": 5
}
