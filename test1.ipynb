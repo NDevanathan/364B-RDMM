{
 "cells": [
  {
   "cell_type": "code",
   "execution_count": 377,
   "id": "4f24f3cd",
   "metadata": {},
   "outputs": [],
   "source": [
    "include(\"RDMM.jl\")\n",
    "using LinearAlgebra\n",
    "using Random\n",
    "using Statistics"
   ]
  },
  {
   "cell_type": "code",
   "execution_count": 378,
   "id": "980a7391",
   "metadata": {},
   "outputs": [],
   "source": [
    "Random.seed!(1);"
   ]
  },
  {
   "cell_type": "code",
   "execution_count": 379,
   "id": "22299704",
   "metadata": {},
   "outputs": [],
   "source": [
    "n = 64\n",
    "d = 8\n",
    "N = 2\n",
    "\n",
    "A = rand(n, d)\n",
    "b = rand(n, 1);"
   ]
  },
  {
   "cell_type": "code",
   "execution_count": 380,
   "id": "a0b671f8",
   "metadata": {},
   "outputs": [],
   "source": [
    "x=A\\b;"
   ]
  },
  {
   "cell_type": "code",
   "execution_count": 381,
   "id": "83b26389",
   "metadata": {},
   "outputs": [],
   "source": [
    "x2 = rdmm_ls(A,b,N,100,1)[1];"
   ]
  },
  {
   "cell_type": "code",
   "execution_count": 382,
   "id": "71fc8f94",
   "metadata": {},
   "outputs": [],
   "source": [
    "x3 = rdmm_ls_regularized1(A,b,N,100,0.1)[1];"
   ]
  },
  {
   "cell_type": "code",
   "execution_count": 383,
   "id": "0706b65d",
   "metadata": {},
   "outputs": [],
   "source": [
    "x4 = rdmm_ls_regularized2(A,b,N,100,0.1)[1];"
   ]
  },
  {
   "cell_type": "code",
   "execution_count": 384,
   "id": "d11170ea",
   "metadata": {},
   "outputs": [],
   "source": [
    "x5 = rdmm_ls_regularized3(A,b,N,100,0.1)[1];"
   ]
  },
  {
   "cell_type": "code",
   "execution_count": 385,
   "id": "66b89f05",
   "metadata": {},
   "outputs": [],
   "source": [
    "x6 = rdmm_ls_regularized4(A,b,N,100,0.1)[1];"
   ]
  },
  {
   "cell_type": "code",
   "execution_count": 386,
   "id": "a997d308",
   "metadata": {},
   "outputs": [
    {
     "data": {
      "text/plain": [
       "2.3574653873550817"
      ]
     },
     "execution_count": 386,
     "metadata": {},
     "output_type": "execute_result"
    }
   ],
   "source": [
    "norm(b-A*x)"
   ]
  },
  {
   "cell_type": "code",
   "execution_count": 387,
   "id": "3b9ed3db",
   "metadata": {},
   "outputs": [
    {
     "data": {
      "text/plain": [
       "2.365493941822266"
      ]
     },
     "execution_count": 387,
     "metadata": {},
     "output_type": "execute_result"
    }
   ],
   "source": [
    "norm(b-A*x2)"
   ]
  },
  {
   "cell_type": "code",
   "execution_count": 388,
   "id": "f173841e",
   "metadata": {},
   "outputs": [
    {
     "data": {
      "text/plain": [
       "3.3758254336047936e207"
      ]
     },
     "execution_count": 388,
     "metadata": {},
     "output_type": "execute_result"
    }
   ],
   "source": [
    "norm(b-A*x3)"
   ]
  },
  {
   "cell_type": "code",
   "execution_count": 389,
   "id": "81f6cda6",
   "metadata": {},
   "outputs": [
    {
     "data": {
      "text/plain": [
       "1.564955945350634e206"
      ]
     },
     "execution_count": 389,
     "metadata": {},
     "output_type": "execute_result"
    }
   ],
   "source": [
    "norm(b-A*x4)"
   ]
  },
  {
   "cell_type": "code",
   "execution_count": 390,
   "id": "2aa43dca",
   "metadata": {},
   "outputs": [
    {
     "data": {
      "text/plain": [
       "2.3748677704770014"
      ]
     },
     "execution_count": 390,
     "metadata": {},
     "output_type": "execute_result"
    }
   ],
   "source": [
    "norm(b-A*x5)"
   ]
  },
  {
   "cell_type": "code",
   "execution_count": 391,
   "id": "c4bef6fe",
   "metadata": {},
   "outputs": [
    {
     "data": {
      "text/plain": [
       "2.377805142333206"
      ]
     },
     "execution_count": 391,
     "metadata": {},
     "output_type": "execute_result"
    }
   ],
   "source": [
    "norm(b-A*x6)"
   ]
  },
  {
   "cell_type": "code",
   "execution_count": null,
   "id": "462f7e35",
   "metadata": {},
   "outputs": [],
   "source": []
  },
  {
   "cell_type": "code",
   "execution_count": null,
   "id": "96fcb593",
   "metadata": {},
   "outputs": [],
   "source": []
  }
 ],
 "metadata": {
  "kernelspec": {
   "display_name": "Julia 1.6.3",
   "language": "julia",
   "name": "julia-1.6"
  },
  "language_info": {
   "file_extension": ".jl",
   "mimetype": "application/julia",
   "name": "julia",
   "version": "1.7.1"
  }
 },
 "nbformat": 4,
 "nbformat_minor": 5
}
