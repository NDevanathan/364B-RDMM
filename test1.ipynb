{
 "cells": [
  {
   "cell_type": "code",
   "execution_count": 165,
   "id": "4f24f3cd",
   "metadata": {},
   "outputs": [],
   "source": [
    "include(\"RDMM.jl\")\n",
    "using LinearAlgebra\n",
    "using Random\n",
    "using Statistics"
   ]
  },
  {
   "cell_type": "code",
   "execution_count": 166,
   "id": "980a7391",
   "metadata": {},
   "outputs": [],
   "source": [
    "Random.seed!(1);"
   ]
  },
  {
   "cell_type": "code",
   "execution_count": 167,
   "id": "22299704",
   "metadata": {},
   "outputs": [],
   "source": [
    "n = 64\n",
    "d = 8\n",
    "N = 2\n",
    "\n",
    "A = rand(n, d)\n",
    "b = rand(n, 1);"
   ]
  },
  {
   "cell_type": "code",
   "execution_count": 168,
   "id": "a0b671f8",
   "metadata": {},
   "outputs": [],
   "source": [
    "x=A\\b;"
   ]
  },
  {
   "cell_type": "code",
   "execution_count": 169,
   "id": "83b26389",
   "metadata": {},
   "outputs": [],
   "source": [
    "x2 = rdmm_ls(A,b,N,10000,1)[1];"
   ]
  },
  {
   "cell_type": "code",
   "execution_count": 170,
   "id": "3ad18eb5",
   "metadata": {},
   "outputs": [],
   "source": [
    "x3 = rdmm_ls(A,b,N,10000,1,rflag=false)[1];"
   ]
  },
  {
   "cell_type": "code",
   "execution_count": 171,
   "id": "a997d308",
   "metadata": {},
   "outputs": [
    {
     "data": {
      "text/plain": [
       "2.3574653873550817"
      ]
     },
     "execution_count": 171,
     "metadata": {},
     "output_type": "execute_result"
    }
   ],
   "source": [
    "norm(b-A*x)"
   ]
  },
  {
   "cell_type": "code",
   "execution_count": 172,
   "id": "3b9ed3db",
   "metadata": {},
   "outputs": [
    {
     "data": {
      "text/plain": [
       "2.365493941822266"
      ]
     },
     "execution_count": 172,
     "metadata": {},
     "output_type": "execute_result"
    }
   ],
   "source": [
    "norm(b-A*x2)"
   ]
  },
  {
   "cell_type": "code",
   "execution_count": 173,
   "id": "f173841e",
   "metadata": {},
   "outputs": [
    {
     "data": {
      "text/plain": [
       "2.382130885920795"
      ]
     },
     "execution_count": 173,
     "metadata": {},
     "output_type": "execute_result"
    }
   ],
   "source": [
    "norm(b-A*x3)"
   ]
  },
  {
   "cell_type": "code",
   "execution_count": 174,
   "id": "81f6cda6",
   "metadata": {},
   "outputs": [
    {
     "ename": "LoadError",
     "evalue": "DimensionMismatch(\"dimensions must match: a has dims (Base.OneTo(64), Base.OneTo(1)), b has dims (Base.OneTo(64), Base.OneTo(8)), mismatch at 2\")",
     "output_type": "error",
     "traceback": [
      "DimensionMismatch(\"dimensions must match: a has dims (Base.OneTo(64), Base.OneTo(1)), b has dims (Base.OneTo(64), Base.OneTo(8)), mismatch at 2\")",
      "",
      "Stacktrace:",
      " [1] promote_shape",
      "   @ ./indices.jl:178 [inlined]",
      " [2] promote_shape(a::Matrix{Float64}, b::Matrix{Float64})",
      "   @ Base ./indices.jl:169",
      " [3] -(A::Matrix{Float64}, B::Matrix{Float64})",
      "   @ Base ./arraymath.jl:38",
      " [4] top-level scope",
      "   @ In[174]:1",
      " [5] eval",
      "   @ ./boot.jl:373 [inlined]",
      " [6] include_string(mapexpr::typeof(REPL.softscope), mod::Module, code::String, filename::String)",
      "   @ Base ./loading.jl:1196"
     ]
    }
   ],
   "source": [
    "norm(b-A*mean(x2))"
   ]
  },
  {
   "cell_type": "code",
   "execution_count": 164,
   "id": "66ec4910",
   "metadata": {},
   "outputs": [
    {
     "data": {
      "text/plain": [
       "2.382130885920795"
      ]
     },
     "execution_count": 164,
     "metadata": {},
     "output_type": "execute_result"
    }
   ],
   "source": [
    "norm(b-A*mean(x3))"
   ]
  },
  {
   "cell_type": "code",
   "execution_count": null,
   "id": "c4bef6fe",
   "metadata": {},
   "outputs": [],
   "source": []
  }
 ],
 "metadata": {
  "kernelspec": {
   "display_name": "Julia 1.6.3",
   "language": "julia",
   "name": "julia-1.6"
  },
  "language_info": {
   "file_extension": ".jl",
   "mimetype": "application/julia",
   "name": "julia",
   "version": "1.7.1"
  }
 },
 "nbformat": 4,
 "nbformat_minor": 5
}
