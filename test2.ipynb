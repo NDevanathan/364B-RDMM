{
 "cells": [
  {
   "cell_type": "code",
   "execution_count": 228,
   "id": "4f24f3cd",
   "metadata": {},
   "outputs": [],
   "source": [
    "include(\"RDMM.jl\")\n",
    "using LinearAlgebra\n",
    "using Random\n",
    "using Convex"
   ]
  },
  {
   "cell_type": "code",
   "execution_count": 229,
   "id": "980a7391",
   "metadata": {},
   "outputs": [],
   "source": [
    "Random.seed!(1);"
   ]
  },
  {
   "cell_type": "code",
   "execution_count": 230,
   "id": "22299704",
   "metadata": {},
   "outputs": [],
   "source": [
    "n = 64\n",
    "d = 1024\n",
    "N = 1\n",
    "\n",
    "A = rand(n, d)\n",
    "b = rand(n, 1)\n",
    "eta = rand()/10;"
   ]
  },
  {
   "cell_type": "code",
   "execution_count": 231,
   "id": "a0b671f8",
   "metadata": {},
   "outputs": [],
   "source": [
    "x=(A'*A+sqrt(eta)*I(d))^(-1)*(A'*b);"
   ]
  },
  {
   "cell_type": "code",
   "execution_count": 232,
   "id": "83b26389",
   "metadata": {},
   "outputs": [],
   "source": [
    "x2 = rdmm_ridge(A,b,eta,N,1000,1)[1];"
   ]
  },
  {
   "cell_type": "code",
   "execution_count": 233,
   "id": "98c972a0",
   "metadata": {},
   "outputs": [],
   "source": [
    "x3 = rdmm_ridge(A,b,eta,N,1000,1,rflag=false)[1];"
   ]
  },
  {
   "cell_type": "code",
   "execution_count": 234,
   "id": "a997d308",
   "metadata": {},
   "outputs": [
    {
     "data": {
      "text/plain": [
       "0.0015520447150444818"
      ]
     },
     "execution_count": 234,
     "metadata": {},
     "output_type": "execute_result"
    }
   ],
   "source": [
    "norm(b-A*x)^2+eta*norm(x)^2"
   ]
  },
  {
   "cell_type": "code",
   "execution_count": 235,
   "id": "3b9ed3db",
   "metadata": {},
   "outputs": [
    {
     "data": {
      "text/plain": [
       "0.001537788866989268"
      ]
     },
     "execution_count": 235,
     "metadata": {},
     "output_type": "execute_result"
    }
   ],
   "source": [
    "norm(b-A*x2)^2+eta*norm(x2)^2"
   ]
  },
  {
   "cell_type": "code",
   "execution_count": 236,
   "id": "f173841e",
   "metadata": {},
   "outputs": [
    {
     "data": {
      "text/plain": [
       "0.0015377888669892677"
      ]
     },
     "execution_count": 236,
     "metadata": {},
     "output_type": "execute_result"
    }
   ],
   "source": [
    "norm(b-A*x3)^2+eta*norm(x3)^2"
   ]
  },
  {
   "cell_type": "code",
   "execution_count": null,
   "id": "81f6cda6",
   "metadata": {},
   "outputs": [],
   "source": []
  },
  {
   "cell_type": "code",
   "execution_count": null,
   "id": "c4bef6fe",
   "metadata": {},
   "outputs": [],
   "source": []
  },
  {
   "cell_type": "code",
   "execution_count": null,
   "id": "58e30edb",
   "metadata": {},
   "outputs": [],
   "source": []
  }
 ],
 "metadata": {
  "kernelspec": {
   "display_name": "Julia 1.6.3",
   "language": "julia",
   "name": "julia-1.6"
  },
  "language_info": {
   "file_extension": ".jl",
   "mimetype": "application/julia",
   "name": "julia",
   "version": "1.7.1"
  }
 },
 "nbformat": 4,
 "nbformat_minor": 5
}
