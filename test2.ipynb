{
 "cells": [
  {
   "cell_type": "code",
   "execution_count": 59,
   "id": "4f24f3cd",
   "metadata": {},
   "outputs": [],
   "source": [
    "include(\"RDMM.jl\")\n",
    "using LinearAlgebra\n",
    "using Random\n",
    "using Convex"
   ]
  },
  {
   "cell_type": "code",
   "execution_count": 60,
   "id": "980a7391",
   "metadata": {},
   "outputs": [],
   "source": [
    "Random.seed!(1);"
   ]
  },
  {
   "cell_type": "code",
   "execution_count": 61,
   "id": "22299704",
   "metadata": {},
   "outputs": [
    {
     "data": {
      "text/plain": [
       "0.06047026239762088"
      ]
     },
     "execution_count": 61,
     "metadata": {},
     "output_type": "execute_result"
    }
   ],
   "source": [
    "n = 64\n",
    "d = 8\n",
    "N = 1\n",
    "\n",
    "A = rand(n, d)\n",
    "b = rand(n, 1)\n",
    "eta = rand()/10"
   ]
  },
  {
   "cell_type": "code",
   "execution_count": 62,
   "id": "a0b671f8",
   "metadata": {},
   "outputs": [
    {
     "data": {
      "text/plain": [
       "8×1 Matrix{Float64}:\n",
       "  0.05454759177162871\n",
       "  0.15372035999752942\n",
       "  0.2533494670603922\n",
       "  0.16937115096045363\n",
       " -0.06113332410578831\n",
       "  0.31409186225728053\n",
       "  0.016134283058340415\n",
       "  0.09080187679177842"
      ]
     },
     "execution_count": 62,
     "metadata": {},
     "output_type": "execute_result"
    }
   ],
   "source": [
    "x=(A'*A+eta*I(d))^(-1)*(A'*b)"
   ]
  },
  {
   "cell_type": "code",
   "execution_count": 69,
   "id": "83b26389",
   "metadata": {},
   "outputs": [
    {
     "data": {
      "text/plain": [
       "8×1 Matrix{Float64}:\n",
       "  1.005132776751208\n",
       "  2.422210767510899\n",
       "  3.7949299581150013\n",
       "  2.622911302129577\n",
       " -0.35881238025978224\n",
       "  4.6622812622274505\n",
       "  0.46537819190891005\n",
       "  1.687335535727437"
      ]
     },
     "execution_count": 69,
     "metadata": {},
     "output_type": "execute_result"
    }
   ],
   "source": [
    "x2 = rdmm_ridge(A,b,eta,N,10000,1)[1]"
   ]
  },
  {
   "cell_type": "code",
   "execution_count": 70,
   "id": "a997d308",
   "metadata": {},
   "outputs": [
    {
     "data": {
      "text/plain": [
       "2.3574859156747303"
      ]
     },
     "execution_count": 70,
     "metadata": {},
     "output_type": "execute_result"
    }
   ],
   "source": [
    "norm(b-A*x)"
   ]
  },
  {
   "cell_type": "code",
   "execution_count": 71,
   "id": "3b9ed3db",
   "metadata": {},
   "outputs": [
    {
     "data": {
      "text/plain": [
       "64.23767309337293"
      ]
     },
     "execution_count": 71,
     "metadata": {},
     "output_type": "execute_result"
    }
   ],
   "source": [
    "norm(b-A*x2)"
   ]
  },
  {
   "cell_type": "code",
   "execution_count": 68,
   "id": "f173841e",
   "metadata": {},
   "outputs": [
    {
     "data": {
      "text/plain": [
       "64.23767309337293"
      ]
     },
     "execution_count": 68,
     "metadata": {},
     "output_type": "execute_result"
    }
   ],
   "source": [
    "norm(b-A*x3)"
   ]
  },
  {
   "cell_type": "code",
   "execution_count": 67,
   "id": "81f6cda6",
   "metadata": {},
   "outputs": [
    {
     "data": {
      "text/plain": [
       "8×1 Matrix{Float64}:\n",
       "  1.005132776751208\n",
       "  2.422210767510899\n",
       "  3.7949299581150013\n",
       "  2.622911302129577\n",
       " -0.35881238025978224\n",
       "  4.6622812622274505\n",
       "  0.46537819190891005\n",
       "  1.687335535727437"
      ]
     },
     "execution_count": 67,
     "metadata": {},
     "output_type": "execute_result"
    }
   ],
   "source": [
    "x3 = rdmm_ridge(A,b,eta,N,10000,1,rflag=false)[1]"
   ]
  },
  {
   "cell_type": "code",
   "execution_count": null,
   "id": "c4bef6fe",
   "metadata": {},
   "outputs": [],
   "source": []
  }
 ],
 "metadata": {
  "kernelspec": {
   "display_name": "Julia 1.6.3",
   "language": "julia",
   "name": "julia-1.6"
  },
  "language_info": {
   "file_extension": ".jl",
   "mimetype": "application/julia",
   "name": "julia",
   "version": "1.7.1"
  }
 },
 "nbformat": 4,
 "nbformat_minor": 5
}
