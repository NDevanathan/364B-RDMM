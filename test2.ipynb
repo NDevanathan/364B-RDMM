{
 "cells": [
  {
   "cell_type": "code",
   "execution_count": 16,
   "id": "4f24f3cd",
   "metadata": {},
   "outputs": [],
   "source": [
    "include(\"RDMM.jl\")\n",
    "using LinearAlgebra\n",
    "using Random\n",
    "using Convex"
   ]
  },
  {
   "cell_type": "code",
   "execution_count": 17,
   "id": "980a7391",
   "metadata": {},
   "outputs": [],
   "source": [
    "Random.seed!(1);"
   ]
  },
  {
   "cell_type": "code",
   "execution_count": 25,
   "id": "22299704",
   "metadata": {},
   "outputs": [
    {
     "data": {
      "text/plain": [
       "0.003728235313897843"
      ]
     },
     "execution_count": 25,
     "metadata": {},
     "output_type": "execute_result"
    }
   ],
   "source": [
    "n = 64\n",
    "d = 8\n",
    "N = 1\n",
    "\n",
    "A = rand(n, d)\n",
    "b = rand(n, 1)\n",
    "eta = rand()/10"
   ]
  },
  {
   "cell_type": "code",
   "execution_count": 26,
   "id": "a0b671f8",
   "metadata": {},
   "outputs": [
    {
     "data": {
      "text/plain": [
       "8×1 Matrix{Float64}:\n",
       "  0.08602414157152194\n",
       "  0.18065270155962532\n",
       "  0.0299165170437925\n",
       "  0.15055855795668194\n",
       "  0.17172774317294004\n",
       " -0.1803541257569976\n",
       "  0.11374669505365231\n",
       "  0.4710125823554048"
      ]
     },
     "execution_count": 26,
     "metadata": {},
     "output_type": "execute_result"
    }
   ],
   "source": [
    "x=(A'*A+eta*I(d))^(-1)*(A'*b)"
   ]
  },
  {
   "cell_type": "code",
   "execution_count": 32,
   "id": "83b26389",
   "metadata": {},
   "outputs": [
    {
     "data": {
      "text/plain": [
       "8×1 Matrix{Float64}:\n",
       " 255.3430874247554\n",
       " 270.0742607738557\n",
       " 136.14831547699708\n",
       " 251.41922372784305\n",
       " 219.98199104680182\n",
       "  67.0915750527204\n",
       " 241.29002580593757\n",
       " 487.01996643095003"
      ]
     },
     "execution_count": 32,
     "metadata": {},
     "output_type": "execute_result"
    }
   ],
   "source": [
    "x2 = rdmm_ridge(A,b,eta,N,10000,0.01)[1]"
   ]
  },
  {
   "cell_type": "code",
   "execution_count": 28,
   "id": "a997d308",
   "metadata": {},
   "outputs": [
    {
     "data": {
      "text/plain": [
       "2.195790796207477"
      ]
     },
     "execution_count": 28,
     "metadata": {},
     "output_type": "execute_result"
    }
   ],
   "source": [
    "norm(b-A*x)"
   ]
  },
  {
   "cell_type": "code",
   "execution_count": 29,
   "id": "3b9ed3db",
   "metadata": {},
   "outputs": [
    {
     "data": {
      "text/plain": [
       "7790.009385538405"
      ]
     },
     "execution_count": 29,
     "metadata": {},
     "output_type": "execute_result"
    }
   ],
   "source": [
    "norm(b-A*x2)"
   ]
  },
  {
   "cell_type": "code",
   "execution_count": 19,
   "id": "f173841e",
   "metadata": {},
   "outputs": [
    {
     "data": {
      "text/plain": [
       "2.1997714148504253"
      ]
     },
     "execution_count": 19,
     "metadata": {},
     "output_type": "execute_result"
    }
   ],
   "source": [
    "norm(b-A*x3)"
   ]
  },
  {
   "cell_type": "code",
   "execution_count": 33,
   "id": "81f6cda6",
   "metadata": {},
   "outputs": [
    {
     "data": {
      "text/plain": [
       "8×1 Matrix{Float64}:\n",
       " 255.34308742475542\n",
       " 270.0742607738559\n",
       " 136.14831547699725\n",
       " 251.41922372784302\n",
       " 219.98199104680185\n",
       "  67.0915750527204\n",
       " 241.29002580593755\n",
       " 487.01996643095"
      ]
     },
     "execution_count": 33,
     "metadata": {},
     "output_type": "execute_result"
    }
   ],
   "source": [
    "x3 = rdmm_ridge(A,b,eta,N,10000,1,rflag=false)[1]"
   ]
  },
  {
   "cell_type": "code",
   "execution_count": null,
   "id": "c4bef6fe",
   "metadata": {},
   "outputs": [],
   "source": []
  }
 ],
 "metadata": {
  "kernelspec": {
   "display_name": "Julia 1.6.3",
   "language": "julia",
   "name": "julia-1.6"
  },
  "language_info": {
   "file_extension": ".jl",
   "mimetype": "application/julia",
   "name": "julia",
   "version": "1.7.1"
  }
 },
 "nbformat": 4,
 "nbformat_minor": 5
}
