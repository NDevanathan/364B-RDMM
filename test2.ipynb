{
 "cells": [
  {
   "cell_type": "code",
   "execution_count": 41,
   "id": "4f24f3cd",
   "metadata": {},
   "outputs": [],
   "source": [
    "include(\"RDMM.jl\")\n",
    "using LinearAlgebra\n",
    "using Random\n",
    "using Convex"
   ]
  },
  {
   "cell_type": "code",
   "execution_count": 42,
   "id": "980a7391",
   "metadata": {},
   "outputs": [],
   "source": [
    "Random.seed!(1);"
   ]
  },
  {
   "cell_type": "code",
   "execution_count": 43,
   "id": "22299704",
   "metadata": {},
   "outputs": [],
   "source": [
    "n = 64\n",
    "d = 1024\n",
    "N = 1\n",
    "\n",
    "A = rand(n, d)\n",
    "b = rand(n, 1)\n",
    "eta = 1;"
   ]
  },
  {
   "cell_type": "code",
   "execution_count": 44,
   "id": "a0b671f8",
   "metadata": {},
   "outputs": [],
   "source": [
    "x=(A'*A+sqrt(eta)*I(d))^(-1)*(A'*b);"
   ]
  },
  {
   "cell_type": "code",
   "execution_count": 45,
   "id": "83b26389",
   "metadata": {},
   "outputs": [],
   "source": [
    "x2 = rdmm_ridge(A,b,eta,N,10000,1)[1];"
   ]
  },
  {
   "cell_type": "code",
   "execution_count": 46,
   "id": "b841c073",
   "metadata": {},
   "outputs": [],
   "source": [
    "x3 = rdmm_ridge(A,b,eta,N,10000,1,rflag=false)[1];"
   ]
  },
  {
   "cell_type": "code",
   "execution_count": 47,
   "id": "a997d308",
   "metadata": {},
   "outputs": [
    {
     "data": {
      "text/plain": [
       "0.0681407194928097"
      ]
     },
     "execution_count": 47,
     "metadata": {},
     "output_type": "execute_result"
    }
   ],
   "source": [
    "norm(b-A*x)^2+eta*norm(x)^2"
   ]
  },
  {
   "cell_type": "code",
   "execution_count": 48,
   "id": "3b9ed3db",
   "metadata": {},
   "outputs": [
    {
     "data": {
      "text/plain": [
       "0.06814071949280971"
      ]
     },
     "execution_count": 48,
     "metadata": {},
     "output_type": "execute_result"
    }
   ],
   "source": [
    "norm(b-A*x2)^2+eta*norm(x2)^2"
   ]
  },
  {
   "cell_type": "code",
   "execution_count": 49,
   "id": "f173841e",
   "metadata": {},
   "outputs": [
    {
     "data": {
      "text/plain": [
       "0.06814071949280971"
      ]
     },
     "execution_count": 49,
     "metadata": {},
     "output_type": "execute_result"
    }
   ],
   "source": [
    "norm(b-A*x3)^2+eta*norm(x3)^2"
   ]
  },
  {
   "cell_type": "code",
   "execution_count": null,
   "id": "81f6cda6",
   "metadata": {},
   "outputs": [],
   "source": []
  },
  {
   "cell_type": "code",
   "execution_count": null,
   "id": "c4bef6fe",
   "metadata": {},
   "outputs": [],
   "source": []
  },
  {
   "cell_type": "code",
   "execution_count": null,
   "id": "5044aab1",
   "metadata": {},
   "outputs": [],
   "source": []
  }
 ],
 "metadata": {
  "kernelspec": {
   "display_name": "Julia 1.6.3",
   "language": "julia",
   "name": "julia-1.6"
  },
  "language_info": {
   "file_extension": ".jl",
   "mimetype": "application/julia",
   "name": "julia",
   "version": "1.7.1"
  }
 },
 "nbformat": 4,
 "nbformat_minor": 5
}
