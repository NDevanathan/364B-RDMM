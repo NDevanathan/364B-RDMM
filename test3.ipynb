{
 "cells": [
  {
   "cell_type": "code",
   "execution_count": 9,
   "id": "4f24f3cd",
   "metadata": {},
   "outputs": [],
   "source": [
    "include(\"RDMM.jl\")\n",
    "using LinearAlgebra\n",
    "using Random\n",
    "using Convex\n",
    "using SCS"
   ]
  },
  {
   "cell_type": "code",
   "execution_count": 10,
   "id": "980a7391",
   "metadata": {},
   "outputs": [],
   "source": [
    "Random.seed!(1);"
   ]
  },
  {
   "cell_type": "code",
   "execution_count": 11,
   "id": "22299704",
   "metadata": {},
   "outputs": [],
   "source": [
    "n = 64\n",
    "d = 8\n",
    "\n",
    "A = rand(n, d)\n",
    "b = rand(n, 1);\n",
    "\n",
    "x = Variable(d)\n",
    "\n",
    "function g(x)\n",
    "    return dot(x,x)\n",
    "end\n",
    "\n",
    "prob = minimize(0.5*square(norm(A*x-b,2))+g(x))\n",
    "solve!(prob, SCS.Optimizer(verbose=false))\n",
    "\n",
    "xstar = evaluate(x);"
   ]
  },
  {
   "cell_type": "code",
   "execution_count": 12,
   "id": "83b26389",
   "metadata": {},
   "outputs": [
    {
     "name": "stderr",
     "output_type": "stream",
     "text": [
      "┌ Warning: Problem status ALMOST_OPTIMAL; solution may be inaccurate.\n",
      "└ @ Convex /home/ndev/.julia/packages/Convex/uI27T/src/solution.jl:263\n",
      "┌ Warning: Problem status ALMOST_OPTIMAL; solution may be inaccurate.\n",
      "└ @ Convex /home/ndev/.julia/packages/Convex/uI27T/src/solution.jl:263\n",
      "┌ Warning: Problem status ALMOST_OPTIMAL; solution may be inaccurate.\n",
      "└ @ Convex /home/ndev/.julia/packages/Convex/uI27T/src/solution.jl:263\n",
      "┌ Warning: Problem status ALMOST_OPTIMAL; solution may be inaccurate.\n",
      "└ @ Convex /home/ndev/.julia/packages/Convex/uI27T/src/solution.jl:263\n",
      "┌ Warning: Problem status DUAL_INFEASIBLE; solution may be inaccurate.\n",
      "└ @ Convex /home/ndev/.julia/packages/Convex/uI27T/src/solution.jl:263\n",
      "┌ Warning: Problem status DUAL_INFEASIBLE; solution may be inaccurate.\n",
      "└ @ Convex /home/ndev/.julia/packages/Convex/uI27T/src/solution.jl:263\n",
      "┌ Warning: Problem status DUAL_INFEASIBLE; solution may be inaccurate.\n",
      "└ @ Convex /home/ndev/.julia/packages/Convex/uI27T/src/solution.jl:263\n",
      "┌ Warning: Problem status DUAL_INFEASIBLE; solution may be inaccurate.\n",
      "└ @ Convex /home/ndev/.julia/packages/Convex/uI27T/src/solution.jl:263\n",
      "┌ Warning: Problem status DUAL_INFEASIBLE; solution may be inaccurate.\n",
      "└ @ Convex /home/ndev/.julia/packages/Convex/uI27T/src/solution.jl:263\n",
      "┌ Warning: Problem status DUAL_INFEASIBLE; solution may be inaccurate.\n",
      "└ @ Convex /home/ndev/.julia/packages/Convex/uI27T/src/solution.jl:263\n",
      "┌ Warning: Problem status DUAL_INFEASIBLE; solution may be inaccurate.\n",
      "└ @ Convex /home/ndev/.julia/packages/Convex/uI27T/src/solution.jl:263\n",
      "┌ Warning: Problem status DUAL_INFEASIBLE; solution may be inaccurate.\n",
      "└ @ Convex /home/ndev/.julia/packages/Convex/uI27T/src/solution.jl:263\n",
      "┌ Warning: Problem status DUAL_INFEASIBLE; solution may be inaccurate.\n",
      "└ @ Convex /home/ndev/.julia/packages/Convex/uI27T/src/solution.jl:263\n",
      "┌ Warning: Problem status DUAL_INFEASIBLE; solution may be inaccurate.\n",
      "└ @ Convex /home/ndev/.julia/packages/Convex/uI27T/src/solution.jl:263\n",
      "┌ Warning: Problem status DUAL_INFEASIBLE; solution may be inaccurate.\n",
      "└ @ Convex /home/ndev/.julia/packages/Convex/uI27T/src/solution.jl:263\n",
      "┌ Warning: Problem status DUAL_INFEASIBLE; solution may be inaccurate.\n",
      "└ @ Convex /home/ndev/.julia/packages/Convex/uI27T/src/solution.jl:263\n",
      "┌ Warning: Problem status DUAL_INFEASIBLE; solution may be inaccurate.\n",
      "└ @ Convex /home/ndev/.julia/packages/Convex/uI27T/src/solution.jl:263\n",
      "┌ Warning: Problem status DUAL_INFEASIBLE; solution may be inaccurate.\n",
      "└ @ Convex /home/ndev/.julia/packages/Convex/uI27T/src/solution.jl:263\n",
      "┌ Warning: Problem status DUAL_INFEASIBLE; solution may be inaccurate.\n",
      "└ @ Convex /home/ndev/.julia/packages/Convex/uI27T/src/solution.jl:263\n",
      "┌ Warning: Problem status DUAL_INFEASIBLE; solution may be inaccurate.\n",
      "└ @ Convex /home/ndev/.julia/packages/Convex/uI27T/src/solution.jl:263\n",
      "┌ Warning: Problem status DUAL_INFEASIBLE; solution may be inaccurate.\n",
      "└ @ Convex /home/ndev/.julia/packages/Convex/uI27T/src/solution.jl:263\n",
      "┌ Warning: Problem status DUAL_INFEASIBLE; solution may be inaccurate.\n",
      "└ @ Convex /home/ndev/.julia/packages/Convex/uI27T/src/solution.jl:263\n",
      "┌ Warning: Problem status DUAL_INFEASIBLE; solution may be inaccurate.\n",
      "└ @ Convex /home/ndev/.julia/packages/Convex/uI27T/src/solution.jl:263\n",
      "┌ Warning: Problem status DUAL_INFEASIBLE; solution may be inaccurate.\n",
      "└ @ Convex /home/ndev/.julia/packages/Convex/uI27T/src/solution.jl:263\n",
      "┌ Warning: Problem status DUAL_INFEASIBLE; solution may be inaccurate.\n",
      "└ @ Convex /home/ndev/.julia/packages/Convex/uI27T/src/solution.jl:263\n",
      "┌ Warning: Problem status DUAL_INFEASIBLE; solution may be inaccurate.\n",
      "└ @ Convex /home/ndev/.julia/packages/Convex/uI27T/src/solution.jl:263\n",
      "┌ Warning: Problem status DUAL_INFEASIBLE; solution may be inaccurate.\n",
      "└ @ Convex /home/ndev/.julia/packages/Convex/uI27T/src/solution.jl:263\n",
      "┌ Warning: Problem status DUAL_INFEASIBLE; solution may be inaccurate.\n",
      "└ @ Convex /home/ndev/.julia/packages/Convex/uI27T/src/solution.jl:263\n",
      "┌ Warning: Problem status DUAL_INFEASIBLE; solution may be inaccurate.\n",
      "└ @ Convex /home/ndev/.julia/packages/Convex/uI27T/src/solution.jl:263\n",
      "┌ Warning: Problem status DUAL_INFEASIBLE; solution may be inaccurate.\n",
      "└ @ Convex /home/ndev/.julia/packages/Convex/uI27T/src/solution.jl:263\n",
      "┌ Warning: Problem status DUAL_INFEASIBLE; solution may be inaccurate.\n",
      "└ @ Convex /home/ndev/.julia/packages/Convex/uI27T/src/solution.jl:263\n",
      "┌ Warning: Problem status DUAL_INFEASIBLE; solution may be inaccurate.\n",
      "└ @ Convex /home/ndev/.julia/packages/Convex/uI27T/src/solution.jl:263\n",
      "┌ Warning: Problem status DUAL_INFEASIBLE; solution may be inaccurate.\n",
      "└ @ Convex /home/ndev/.julia/packages/Convex/uI27T/src/solution.jl:263\n",
      "┌ Warning: Problem status DUAL_INFEASIBLE; solution may be inaccurate.\n",
      "└ @ Convex /home/ndev/.julia/packages/Convex/uI27T/src/solution.jl:263\n",
      "┌ Warning: Problem status DUAL_INFEASIBLE; solution may be inaccurate.\n",
      "└ @ Convex /home/ndev/.julia/packages/Convex/uI27T/src/solution.jl:263\n",
      "┌ Warning: Problem status DUAL_INFEASIBLE; solution may be inaccurate.\n",
      "└ @ Convex /home/ndev/.julia/packages/Convex/uI27T/src/solution.jl:263\n",
      "┌ Warning: Problem status DUAL_INFEASIBLE; solution may be inaccurate.\n",
      "└ @ Convex /home/ndev/.julia/packages/Convex/uI27T/src/solution.jl:263\n",
      "┌ Warning: Problem status DUAL_INFEASIBLE; solution may be inaccurate.\n",
      "└ @ Convex /home/ndev/.julia/packages/Convex/uI27T/src/solution.jl:263\n",
      "┌ Warning: Problem status DUAL_INFEASIBLE; solution may be inaccurate.\n",
      "└ @ Convex /home/ndev/.julia/packages/Convex/uI27T/src/solution.jl:263\n",
      "┌ Warning: Problem status DUAL_INFEASIBLE; solution may be inaccurate.\n",
      "└ @ Convex /home/ndev/.julia/packages/Convex/uI27T/src/solution.jl:263\n",
      "┌ Warning: Problem status DUAL_INFEASIBLE; solution may be inaccurate.\n",
      "└ @ Convex /home/ndev/.julia/packages/Convex/uI27T/src/solution.jl:263\n",
      "┌ Warning: Problem status DUAL_INFEASIBLE; solution may be inaccurate.\n",
      "└ @ Convex /home/ndev/.julia/packages/Convex/uI27T/src/solution.jl:263\n",
      "┌ Warning: Problem status DUAL_INFEASIBLE; solution may be inaccurate.\n",
      "└ @ Convex /home/ndev/.julia/packages/Convex/uI27T/src/solution.jl:263\n",
      "┌ Warning: Problem status DUAL_INFEASIBLE; solution may be inaccurate.\n",
      "└ @ Convex /home/ndev/.julia/packages/Convex/uI27T/src/solution.jl:263\n",
      "┌ Warning: Problem status DUAL_INFEASIBLE; solution may be inaccurate.\n",
      "└ @ Convex /home/ndev/.julia/packages/Convex/uI27T/src/solution.jl:263\n",
      "┌ Warning: Problem status DUAL_INFEASIBLE; solution may be inaccurate.\n",
      "└ @ Convex /home/ndev/.julia/packages/Convex/uI27T/src/solution.jl:263\n",
      "┌ Warning: Problem status DUAL_INFEASIBLE; solution may be inaccurate.\n",
      "└ @ Convex /home/ndev/.julia/packages/Convex/uI27T/src/solution.jl:263\n",
      "┌ Warning: Problem status DUAL_INFEASIBLE; solution may be inaccurate.\n",
      "└ @ Convex /home/ndev/.julia/packages/Convex/uI27T/src/solution.jl:263\n",
      "┌ Warning: Problem status DUAL_INFEASIBLE; solution may be inaccurate.\n",
      "└ @ Convex /home/ndev/.julia/packages/Convex/uI27T/src/solution.jl:263\n",
      "┌ Warning: Problem status DUAL_INFEASIBLE; solution may be inaccurate.\n",
      "└ @ Convex /home/ndev/.julia/packages/Convex/uI27T/src/solution.jl:263\n",
      "┌ Warning: Problem status DUAL_INFEASIBLE; solution may be inaccurate.\n",
      "└ @ Convex /home/ndev/.julia/packages/Convex/uI27T/src/solution.jl:263\n",
      "┌ Warning: Problem status DUAL_INFEASIBLE; solution may be inaccurate.\n",
      "└ @ Convex /home/ndev/.julia/packages/Convex/uI27T/src/solution.jl:263\n",
      "┌ Warning: Problem status DUAL_INFEASIBLE; solution may be inaccurate.\n",
      "└ @ Convex /home/ndev/.julia/packages/Convex/uI27T/src/solution.jl:263\n",
      "┌ Warning: Problem status DUAL_INFEASIBLE; solution may be inaccurate.\n",
      "└ @ Convex /home/ndev/.julia/packages/Convex/uI27T/src/solution.jl:263\n",
      "┌ Warning: Problem status DUAL_INFEASIBLE; solution may be inaccurate.\n",
      "└ @ Convex /home/ndev/.julia/packages/Convex/uI27T/src/solution.jl:263\n",
      "┌ Warning: Problem status DUAL_INFEASIBLE; solution may be inaccurate.\n",
      "└ @ Convex /home/ndev/.julia/packages/Convex/uI27T/src/solution.jl:263\n",
      "┌ Warning: Problem status DUAL_INFEASIBLE; solution may be inaccurate.\n",
      "└ @ Convex /home/ndev/.julia/packages/Convex/uI27T/src/solution.jl:263\n",
      "┌ Warning: Problem status DUAL_INFEASIBLE; solution may be inaccurate.\n",
      "└ @ Convex /home/ndev/.julia/packages/Convex/uI27T/src/solution.jl:263\n",
      "┌ Warning: Problem status DUAL_INFEASIBLE; solution may be inaccurate.\n",
      "└ @ Convex /home/ndev/.julia/packages/Convex/uI27T/src/solution.jl:263\n",
      "┌ Warning: Problem status DUAL_INFEASIBLE; solution may be inaccurate.\n",
      "└ @ Convex /home/ndev/.julia/packages/Convex/uI27T/src/solution.jl:263\n",
      "┌ Warning: Problem status DUAL_INFEASIBLE; solution may be inaccurate.\n",
      "└ @ Convex /home/ndev/.julia/packages/Convex/uI27T/src/solution.jl:263\n",
      "┌ Warning: Problem status DUAL_INFEASIBLE; solution may be inaccurate.\n",
      "└ @ Convex /home/ndev/.julia/packages/Convex/uI27T/src/solution.jl:263\n",
      "┌ Warning: Problem status ALMOST_DUAL_INFEASIBLE; solution may be inaccurate.\n",
      "└ @ Convex /home/ndev/.julia/packages/Convex/uI27T/src/solution.jl:263\n",
      "┌ Warning: Problem status DUAL_INFEASIBLE; solution may be inaccurate.\n",
      "└ @ Convex /home/ndev/.julia/packages/Convex/uI27T/src/solution.jl:263\n",
      "┌ Warning: Problem status ALMOST_OPTIMAL; solution may be inaccurate.\n",
      "└ @ Convex /home/ndev/.julia/packages/Convex/uI27T/src/solution.jl:263\n",
      "┌ Warning: Problem status DUAL_INFEASIBLE; solution may be inaccurate.\n",
      "└ @ Convex /home/ndev/.julia/packages/Convex/uI27T/src/solution.jl:263\n",
      "┌ Warning: Problem status DUAL_INFEASIBLE; solution may be inaccurate.\n",
      "└ @ Convex /home/ndev/.julia/packages/Convex/uI27T/src/solution.jl:263\n",
      "┌ Warning: Problem status DUAL_INFEASIBLE; solution may be inaccurate.\n",
      "└ @ Convex /home/ndev/.julia/packages/Convex/uI27T/src/solution.jl:263\n",
      "┌ Warning: Problem status DUAL_INFEASIBLE; solution may be inaccurate.\n",
      "└ @ Convex /home/ndev/.julia/packages/Convex/uI27T/src/solution.jl:263\n",
      "┌ Warning: Problem status DUAL_INFEASIBLE; solution may be inaccurate.\n",
      "└ @ Convex /home/ndev/.julia/packages/Convex/uI27T/src/solution.jl:263\n",
      "┌ Warning: Problem status ALMOST_OPTIMAL; solution may be inaccurate.\n",
      "└ @ Convex /home/ndev/.julia/packages/Convex/uI27T/src/solution.jl:263\n",
      "┌ Warning: Problem status DUAL_INFEASIBLE; solution may be inaccurate.\n",
      "└ @ Convex /home/ndev/.julia/packages/Convex/uI27T/src/solution.jl:263\n"
     ]
    },
    {
     "name": "stderr",
     "output_type": "stream",
     "text": [
      "┌ Warning: Problem status DUAL_INFEASIBLE; solution may be inaccurate.\n",
      "└ @ Convex /home/ndev/.julia/packages/Convex/uI27T/src/solution.jl:263\n",
      "┌ Warning: Problem status DUAL_INFEASIBLE; solution may be inaccurate.\n",
      "└ @ Convex /home/ndev/.julia/packages/Convex/uI27T/src/solution.jl:263\n",
      "┌ Warning: Problem status DUAL_INFEASIBLE; solution may be inaccurate.\n",
      "└ @ Convex /home/ndev/.julia/packages/Convex/uI27T/src/solution.jl:263\n",
      "┌ Warning: Problem status ALMOST_OPTIMAL; solution may be inaccurate.\n",
      "└ @ Convex /home/ndev/.julia/packages/Convex/uI27T/src/solution.jl:263\n",
      "┌ Warning: Problem status ALMOST_OPTIMAL; solution may be inaccurate.\n",
      "└ @ Convex /home/ndev/.julia/packages/Convex/uI27T/src/solution.jl:263\n",
      "┌ Warning: Problem status DUAL_INFEASIBLE; solution may be inaccurate.\n",
      "└ @ Convex /home/ndev/.julia/packages/Convex/uI27T/src/solution.jl:263\n",
      "┌ Warning: Problem status ALMOST_OPTIMAL; solution may be inaccurate.\n",
      "└ @ Convex /home/ndev/.julia/packages/Convex/uI27T/src/solution.jl:263\n",
      "┌ Warning: Problem status ALMOST_OPTIMAL; solution may be inaccurate.\n",
      "└ @ Convex /home/ndev/.julia/packages/Convex/uI27T/src/solution.jl:263\n",
      "┌ Warning: Problem status ALMOST_OPTIMAL; solution may be inaccurate.\n",
      "└ @ Convex /home/ndev/.julia/packages/Convex/uI27T/src/solution.jl:263\n",
      "┌ Warning: Problem status ALMOST_OPTIMAL; solution may be inaccurate.\n",
      "└ @ Convex /home/ndev/.julia/packages/Convex/uI27T/src/solution.jl:263\n",
      "┌ Warning: Problem status ALMOST_OPTIMAL; solution may be inaccurate.\n",
      "└ @ Convex /home/ndev/.julia/packages/Convex/uI27T/src/solution.jl:263\n",
      "┌ Warning: Problem status ALMOST_OPTIMAL; solution may be inaccurate.\n",
      "└ @ Convex /home/ndev/.julia/packages/Convex/uI27T/src/solution.jl:263\n",
      "┌ Warning: Problem status ALMOST_OPTIMAL; solution may be inaccurate.\n",
      "└ @ Convex /home/ndev/.julia/packages/Convex/uI27T/src/solution.jl:263\n"
     ]
    }
   ],
   "source": [
    "x2, lam = rdmm_qr(A,b,g,10,100,1);"
   ]
  },
  {
   "cell_type": "code",
   "execution_count": 13,
   "id": "6ba95eb5",
   "metadata": {},
   "outputs": [],
   "source": [
    "x3 = rdmm_qr(A,b,g,1,100,1,rflag=false)[1];"
   ]
  },
  {
   "cell_type": "code",
   "execution_count": 14,
   "id": "a997d308",
   "metadata": {},
   "outputs": [
    {
     "data": {
      "text/plain": [
       "2.975722452121387"
      ]
     },
     "execution_count": 14,
     "metadata": {},
     "output_type": "execute_result"
    }
   ],
   "source": [
    "0.5*norm(b-A*xstar)^2+g(xstar)"
   ]
  },
  {
   "cell_type": "code",
   "execution_count": 15,
   "id": "3b9ed3db",
   "metadata": {},
   "outputs": [
    {
     "data": {
      "text/plain": [
       "2.9757224521219054"
      ]
     },
     "execution_count": 15,
     "metadata": {},
     "output_type": "execute_result"
    }
   ],
   "source": [
    "0.5*norm(b-A*x2)^2+g(x2)"
   ]
  },
  {
   "cell_type": "code",
   "execution_count": 16,
   "id": "f173841e",
   "metadata": {},
   "outputs": [
    {
     "data": {
      "text/plain": [
       "2.9757224521218126"
      ]
     },
     "execution_count": 16,
     "metadata": {},
     "output_type": "execute_result"
    }
   ],
   "source": [
    "0.5*norm(b-A*x3)^2+g(x3)"
   ]
  },
  {
   "cell_type": "code",
   "execution_count": 17,
   "id": "81f6cda6",
   "metadata": {},
   "outputs": [
    {
     "data": {
      "text/plain": [
       "8×1 Matrix{Float64}:\n",
       " -1.200223700724733\n",
       " -1.137669541890849\n",
       " -1.1628048607145502\n",
       " -0.6968706882878447\n",
       " -1.0314371409259502\n",
       " -0.42940140449295244\n",
       " -0.44348567821475954\n",
       " -0.7440718058493616"
      ]
     },
     "execution_count": 17,
     "metadata": {},
     "output_type": "execute_result"
    }
   ],
   "source": [
    "lam"
   ]
  },
  {
   "cell_type": "code",
   "execution_count": null,
   "id": "c4bef6fe",
   "metadata": {},
   "outputs": [],
   "source": []
  },
  {
   "cell_type": "code",
   "execution_count": null,
   "id": "4323c32b",
   "metadata": {},
   "outputs": [],
   "source": []
  }
 ],
 "metadata": {
  "kernelspec": {
   "display_name": "Julia 1.6.3",
   "language": "julia",
   "name": "julia-1.6"
  },
  "language_info": {
   "file_extension": ".jl",
   "mimetype": "application/julia",
   "name": "julia",
   "version": "1.7.1"
  }
 },
 "nbformat": 4,
 "nbformat_minor": 5
}
