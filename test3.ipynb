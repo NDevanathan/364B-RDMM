{
 "cells": [
  {
   "cell_type": "code",
   "execution_count": 73,
   "id": "4f24f3cd",
   "metadata": {},
   "outputs": [],
   "source": [
    "include(\"RDMM.jl\")\n",
    "using LinearAlgebra\n",
    "using Random\n",
    "using Convex\n",
    "using SCS"
   ]
  },
  {
   "cell_type": "code",
   "execution_count": 74,
   "id": "980a7391",
   "metadata": {},
   "outputs": [],
   "source": [
    "Random.seed!(1);"
   ]
  },
  {
   "cell_type": "code",
   "execution_count": 75,
   "id": "22299704",
   "metadata": {},
   "outputs": [
    {
     "data": {
      "text/plain": [
       "8-element Vector{Float64}:\n",
       " 0.0660757055155415\n",
       " 0.1414174763012828\n",
       " 0.21256433108828873\n",
       " 0.150853906419265\n",
       " 0.005035619156934414\n",
       " 0.2578944185888165\n",
       " 0.03849308149794118\n",
       " 0.10732455298179552"
      ]
     },
     "execution_count": 75,
     "metadata": {},
     "output_type": "execute_result"
    }
   ],
   "source": [
    "n = 64\n",
    "d = 8\n",
    "N = 1\n",
    "\n",
    "A = rand(n, d)\n",
    "b = rand(n, 1);\n",
    "\n",
    "x = Variable(d)\n",
    "\n",
    "function g(x)\n",
    "    return dot(x,x)\n",
    "end\n",
    "\n",
    "prob = minimize(0.5*square(norm(A*x-b,2))+g(x))\n",
    "solve!(prob, SCS.Optimizer(verbose=false))\n",
    "\n",
    "xstar = evaluate(x)"
   ]
  },
  {
   "cell_type": "code",
   "execution_count": 76,
   "id": "83b26389",
   "metadata": {},
   "outputs": [
    {
     "data": {
      "text/plain": [
       "8-element Vector{Float64}:\n",
       "  0.06078064274792276\n",
       "  0.1464717206413005\n",
       "  0.22948041032469185\n",
       "  0.15860813468653748\n",
       " -0.021697478766882026\n",
       "  0.2819293713011897\n",
       "  0.028141541354114123\n",
       "  0.10203362263816432"
      ]
     },
     "execution_count": 76,
     "metadata": {},
     "output_type": "execute_result"
    }
   ],
   "source": [
    "x2 = rdmm_qr(A,b,N,g,1,100,0.1)[1]"
   ]
  },
  {
   "cell_type": "code",
   "execution_count": null,
   "id": "0e1aa02b",
   "metadata": {},
   "outputs": [],
   "source": [
    "x3 = rdmm_qr(A,b,N,g,1,100,0.0001, rflag=false)[1]"
   ]
  },
  {
   "cell_type": "code",
   "execution_count": 64,
   "id": "a997d308",
   "metadata": {},
   "outputs": [
    {
     "data": {
      "text/plain": [
       "2.368071742633705"
      ]
     },
     "execution_count": 64,
     "metadata": {},
     "output_type": "execute_result"
    }
   ],
   "source": [
    "norm(b-A*xstar)"
   ]
  },
  {
   "cell_type": "code",
   "execution_count": 65,
   "id": "3b9ed3db",
   "metadata": {},
   "outputs": [
    {
     "data": {
      "text/plain": [
       "2.3611972780702715"
      ]
     },
     "execution_count": 65,
     "metadata": {},
     "output_type": "execute_result"
    }
   ],
   "source": [
    "norm(b-A*x2)"
   ]
  },
  {
   "cell_type": "code",
   "execution_count": 66,
   "id": "f173841e",
   "metadata": {},
   "outputs": [
    {
     "ename": "LoadError",
     "evalue": "UndefVarError: x3 not defined",
     "output_type": "error",
     "traceback": [
      "UndefVarError: x3 not defined",
      "",
      "Stacktrace:",
      " [1] top-level scope",
      "   @ In[66]:1",
      " [2] eval",
      "   @ ./boot.jl:373 [inlined]",
      " [3] include_string(mapexpr::typeof(REPL.softscope), mod::Module, code::String, filename::String)",
      "   @ Base ./loading.jl:1196"
     ]
    }
   ],
   "source": [
    "norm(b-A*x3)"
   ]
  },
  {
   "cell_type": "code",
   "execution_count": 68,
   "id": "81f6cda6",
   "metadata": {},
   "outputs": [
    {
     "data": {
      "text/plain": [
       "8-element Vector{Float64}:\n",
       "  0.060780643730902084\n",
       "  0.14647172120940155\n",
       "  0.2294804091570531\n",
       "  0.15860813332715076\n",
       " -0.021697476538993662\n",
       "  0.28192937335196966\n",
       "  0.028141539268236298\n",
       "  0.10203362243862994"
      ]
     },
     "execution_count": 68,
     "metadata": {},
     "output_type": "execute_result"
    }
   ],
   "source": []
  },
  {
   "cell_type": "code",
   "execution_count": null,
   "id": "c4bef6fe",
   "metadata": {},
   "outputs": [],
   "source": []
  }
 ],
 "metadata": {
  "kernelspec": {
   "display_name": "Julia 1.6.3",
   "language": "julia",
   "name": "julia-1.6"
  },
  "language_info": {
   "file_extension": ".jl",
   "mimetype": "application/julia",
   "name": "julia",
   "version": "1.7.1"
  }
 },
 "nbformat": 4,
 "nbformat_minor": 5
}
