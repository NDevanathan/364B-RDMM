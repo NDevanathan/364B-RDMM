{
 "cells": [
  {
   "cell_type": "code",
   "execution_count": 1,
   "id": "4f24f3cd",
   "metadata": {},
   "outputs": [],
   "source": [
    "include(\"RDMM.jl\")\n",
    "using LinearAlgebra\n",
    "using Random"
   ]
  },
  {
   "cell_type": "code",
   "execution_count": 2,
   "id": "980a7391",
   "metadata": {},
   "outputs": [],
   "source": [
    "Random.seed!(1);"
   ]
  },
  {
   "cell_type": "code",
   "execution_count": 12,
   "id": "22299704",
   "metadata": {},
   "outputs": [],
   "source": [
    "n = 64\n",
    "d = 8\n",
    "N = 1\n",
    "\n",
    "A = rand(n, d)\n",
    "b = rand(n, 1);"
   ]
  },
  {
   "cell_type": "code",
   "execution_count": 13,
   "id": "a0b671f8",
   "metadata": {},
   "outputs": [
    {
     "data": {
      "text/plain": [
       "8×1 Matrix{Float64}:\n",
       " -0.12690212731267367\n",
       " -0.03503653669857991\n",
       "  0.496070937774365\n",
       "  0.19067103845192906\n",
       "  0.1993474629872911\n",
       "  0.148070748812416\n",
       "  0.08820013833758315\n",
       " -0.004765672696096623"
      ]
     },
     "execution_count": 13,
     "metadata": {},
     "output_type": "execute_result"
    }
   ],
   "source": [
    "x=A\\b"
   ]
  },
  {
   "cell_type": "code",
   "execution_count": 14,
   "id": "83b26389",
   "metadata": {},
   "outputs": [
    {
     "data": {
      "text/plain": [
       "8×1 Matrix{Float64}:\n",
       " -0.12690212731267436\n",
       " -0.03503653669858011\n",
       "  0.49607093777436573\n",
       "  0.19067103845192784\n",
       "  0.19934746298729047\n",
       "  0.1480707488124158\n",
       "  0.08820013833758408\n",
       " -0.004765672696095661"
      ]
     },
     "execution_count": 14,
     "metadata": {},
     "output_type": "execute_result"
    }
   ],
   "source": [
    "x2 = rdmm_ls(A,b,N,100000,0.1)[1]"
   ]
  },
  {
   "cell_type": "code",
   "execution_count": 15,
   "id": "a997d308",
   "metadata": {},
   "outputs": [
    {
     "data": {
      "text/plain": [
       "2.1997714148504253"
      ]
     },
     "execution_count": 15,
     "metadata": {},
     "output_type": "execute_result"
    }
   ],
   "source": [
    "norm(b-A*x)"
   ]
  },
  {
   "cell_type": "code",
   "execution_count": 16,
   "id": "3b9ed3db",
   "metadata": {},
   "outputs": [
    {
     "data": {
      "text/plain": [
       "2.1997714148504253"
      ]
     },
     "execution_count": 16,
     "metadata": {},
     "output_type": "execute_result"
    }
   ],
   "source": [
    "norm(b-A*x2)"
   ]
  },
  {
   "cell_type": "code",
   "execution_count": 19,
   "id": "f173841e",
   "metadata": {},
   "outputs": [
    {
     "data": {
      "text/plain": [
       "2.1997714148504253"
      ]
     },
     "execution_count": 19,
     "metadata": {},
     "output_type": "execute_result"
    }
   ],
   "source": [
    "norm(b-A*x3)"
   ]
  },
  {
   "cell_type": "code",
   "execution_count": 18,
   "id": "81f6cda6",
   "metadata": {},
   "outputs": [
    {
     "data": {
      "text/plain": [
       "8×1 Matrix{Float64}:\n",
       " -0.1269021273126726\n",
       " -0.03503653669858101\n",
       "  0.49607093777436573\n",
       "  0.1906710384519284\n",
       "  0.19934746298729136\n",
       "  0.14807074881241702\n",
       "  0.08820013833758142\n",
       " -0.004765672696096342"
      ]
     },
     "execution_count": 18,
     "metadata": {},
     "output_type": "execute_result"
    }
   ],
   "source": [
    "x3 = rdmm_ls(A,b,N,100000,0.0001, rflag=false)[1]"
   ]
  },
  {
   "cell_type": "code",
   "execution_count": null,
   "id": "c4bef6fe",
   "metadata": {},
   "outputs": [],
   "source": []
  }
 ],
 "metadata": {
  "kernelspec": {
   "display_name": "Julia 1.6.3",
   "language": "julia",
   "name": "julia-1.6"
  },
  "language_info": {
   "file_extension": ".jl",
   "mimetype": "application/julia",
   "name": "julia",
   "version": "1.7.1"
  }
 },
 "nbformat": 4,
 "nbformat_minor": 5
}
