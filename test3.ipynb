{
 "cells": [
  {
   "cell_type": "code",
   "execution_count": 81,
   "id": "4f24f3cd",
   "metadata": {},
   "outputs": [],
   "source": [
    "include(\"RDMM.jl\")\n",
    "using LinearAlgebra\n",
    "using Random\n",
    "using Convex\n",
    "using SCS"
   ]
  },
  {
   "cell_type": "code",
   "execution_count": 82,
   "id": "980a7391",
   "metadata": {},
   "outputs": [],
   "source": [
    "Random.seed!(1);"
   ]
  },
  {
   "cell_type": "code",
   "execution_count": 83,
   "id": "22299704",
   "metadata": {},
   "outputs": [
    {
     "data": {
      "text/plain": [
       "8-element Vector{Float64}:\n",
       " 0.0660757055155415\n",
       " 0.1414174763012828\n",
       " 0.21256433108828873\n",
       " 0.150853906419265\n",
       " 0.005035619156934414\n",
       " 0.2578944185888165\n",
       " 0.03849308149794118\n",
       " 0.10732455298179552"
      ]
     },
     "execution_count": 83,
     "metadata": {},
     "output_type": "execute_result"
    }
   ],
   "source": [
    "n = 64\n",
    "d = 8\n",
    "N = 2\n",
    "\n",
    "A = rand(n, d)\n",
    "b = rand(n, 1);\n",
    "\n",
    "x = Variable(d)\n",
    "\n",
    "function g(x)\n",
    "    return dot(x,x)\n",
    "end\n",
    "\n",
    "prob = minimize(0.5*square(norm(A*x-b,2))+g(x))\n",
    "solve!(prob, SCS.Optimizer(verbose=false))\n",
    "\n",
    "xstar = evaluate(x)"
   ]
  },
  {
   "cell_type": "code",
   "execution_count": 84,
   "id": "83b26389",
   "metadata": {},
   "outputs": [
    {
     "data": {
      "text/plain": [
       "8-element Vector{Float64}:\n",
       "  0.19227692284555037\n",
       "  0.25525746529621757\n",
       "  0.2573857006555868\n",
       "  0.08501214124263323\n",
       "  0.06055548989076483\n",
       "  0.14643426120202047\n",
       " -0.05077118213800581\n",
       "  0.11266652520995935"
      ]
     },
     "execution_count": 84,
     "metadata": {},
     "output_type": "execute_result"
    }
   ],
   "source": [
    "x2 = rdmm_qr(A,b,N,g,1,100,0.1)[1]"
   ]
  },
  {
   "cell_type": "code",
   "execution_count": 85,
   "id": "5c129185",
   "metadata": {},
   "outputs": [
    {
     "data": {
      "text/plain": [
       "8-element Vector{Float64}:\n",
       " -0.07737884934675121\n",
       "  0.22781631270360114\n",
       "  0.22932280273814148\n",
       "  0.21347629639282992\n",
       " -0.09727122339495567\n",
       "  0.4070668992253802\n",
       " -0.1127615589936307\n",
       "  0.1292783603513818"
      ]
     },
     "execution_count": 85,
     "metadata": {},
     "output_type": "execute_result"
    }
   ],
   "source": [
    "x3 = rdmm_qr(A,b,N,g,1,100,0.1,rflag=false)[1]"
   ]
  },
  {
   "cell_type": "code",
   "execution_count": 86,
   "id": "a997d308",
   "metadata": {},
   "outputs": [
    {
     "data": {
      "text/plain": [
       "2.368071742633705"
      ]
     },
     "execution_count": 86,
     "metadata": {},
     "output_type": "execute_result"
    }
   ],
   "source": [
    "norm(b-A*xstar)"
   ]
  },
  {
   "cell_type": "code",
   "execution_count": 87,
   "id": "3b9ed3db",
   "metadata": {},
   "outputs": [
    {
     "data": {
      "text/plain": [
       "2.4528729929985853"
      ]
     },
     "execution_count": 87,
     "metadata": {},
     "output_type": "execute_result"
    }
   ],
   "source": [
    "norm(b-A*x2)"
   ]
  },
  {
   "cell_type": "code",
   "execution_count": 88,
   "id": "f173841e",
   "metadata": {},
   "outputs": [
    {
     "data": {
      "text/plain": [
       "2.4404508442389354"
      ]
     },
     "execution_count": 88,
     "metadata": {},
     "output_type": "execute_result"
    }
   ],
   "source": [
    "norm(b-A*x3)"
   ]
  },
  {
   "cell_type": "code",
   "execution_count": null,
   "id": "81f6cda6",
   "metadata": {},
   "outputs": [],
   "source": []
  },
  {
   "cell_type": "code",
   "execution_count": null,
   "id": "c4bef6fe",
   "metadata": {},
   "outputs": [],
   "source": []
  }
 ],
 "metadata": {
  "kernelspec": {
   "display_name": "Julia 1.6.3",
   "language": "julia",
   "name": "julia-1.6"
  },
  "language_info": {
   "file_extension": ".jl",
   "mimetype": "application/julia",
   "name": "julia",
   "version": "1.7.1"
  }
 },
 "nbformat": 4,
 "nbformat_minor": 5
}
