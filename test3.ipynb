{
 "cells": [
  {
   "cell_type": "code",
   "execution_count": 42,
   "id": "4f24f3cd",
   "metadata": {},
   "outputs": [],
   "source": [
    "include(\"RDMM.jl\")\n",
    "using LinearAlgebra\n",
    "using Random\n",
    "using Convex\n",
    "using SCS"
   ]
  },
  {
   "cell_type": "code",
   "execution_count": 43,
   "id": "980a7391",
   "metadata": {},
   "outputs": [],
   "source": [
    "Random.seed!(1);"
   ]
  },
  {
   "cell_type": "code",
   "execution_count": 44,
   "id": "22299704",
   "metadata": {},
   "outputs": [
    {
     "data": {
      "text/plain": [
       "8-element Vector{Float64}:\n",
       " 0.0660757055155415\n",
       " 0.1414174763012828\n",
       " 0.21256433108828873\n",
       " 0.150853906419265\n",
       " 0.005035619156934414\n",
       " 0.2578944185888165\n",
       " 0.03849308149794118\n",
       " 0.10732455298179552"
      ]
     },
     "execution_count": 44,
     "metadata": {},
     "output_type": "execute_result"
    }
   ],
   "source": [
    "n = 64\n",
    "d = 8\n",
    "N = 1\n",
    "\n",
    "A = rand(n, d)\n",
    "b = rand(n, 1);\n",
    "\n",
    "x = Variable(d)\n",
    "\n",
    "function g(x)\n",
    "    return dot(x,x)\n",
    "end\n",
    "\n",
    "prob = minimize(0.5*square(norm(A*x-b,2))+g(x))\n",
    "solve!(prob, SCS.Optimizer(verbose=false))\n",
    "\n",
    "xstar = evaluate(x)"
   ]
  },
  {
   "cell_type": "code",
   "execution_count": 45,
   "id": "83b26389",
   "metadata": {},
   "outputs": [
    {
     "ename": "LoadError",
     "evalue": "MethodError: no method matching ispos(::Adjoint{Adjoint{Float64, Matrix{Float64}}, Vector{Matrix{Float64}}})\n\u001b[0mClosest candidates are:\n\u001b[0m  ispos(\u001b[91m::Real\u001b[39m) at ~/.julia/packages/Convex/uI27T/src/constant.jl:6\n\u001b[0m  ispos(\u001b[91m::AbstractVecOrMat{<:Real}\u001b[39m) at ~/.julia/packages/Convex/uI27T/src/constant.jl:7",
     "output_type": "error",
     "traceback": [
      "MethodError: no method matching ispos(::Adjoint{Adjoint{Float64, Matrix{Float64}}, Vector{Matrix{Float64}}})\n\u001b[0mClosest candidates are:\n\u001b[0m  ispos(\u001b[91m::Real\u001b[39m) at ~/.julia/packages/Convex/uI27T/src/constant.jl:6\n\u001b[0m  ispos(\u001b[91m::AbstractVecOrMat{<:Real}\u001b[39m) at ~/.julia/packages/Convex/uI27T/src/constant.jl:7",
      "",
      "Stacktrace:",
      " [1] _sign(x::Adjoint{Adjoint{Float64, Matrix{Float64}}, Vector{Matrix{Float64}}})",
      "   @ Convex ~/.julia/packages/Convex/uI27T/src/constant.jl:17",
      " [2] Constant(x::Adjoint{Adjoint{Float64, Matrix{Float64}}, Vector{Matrix{Float64}}}, check_sign::Bool) (repeats 2 times)",
      "   @ Convex ~/.julia/packages/Convex/uI27T/src/constant.jl:34",
      " [3] *(x::Adjoint{Adjoint{Float64, Matrix{Float64}}, Vector{Matrix{Float64}}}, y::Variable)",
      "   @ Convex ~/.julia/packages/Convex/uI27T/src/atoms/affine/multiply_divide.jl:102",
      " [4] rdmm_qr(A::Matrix{Float64}, b::Matrix{Float64}, N::Int64, g::typeof(g), L::Int64, maxiter::Int64, mu::Float64; rflag::Bool)",
      "   @ Main ~/Fileshare/College/classwork/2022Spring/EE 364B/project/364B-rADMM/RDMM.jl:124",
      " [5] rdmm_qr(A::Matrix{Float64}, b::Matrix{Float64}, N::Int64, g::Function, L::Int64, maxiter::Int64, mu::Float64)",
      "   @ Main ~/Fileshare/College/classwork/2022Spring/EE 364B/project/364B-rADMM/RDMM.jl:111",
      " [6] top-level scope",
      "   @ In[45]:1",
      " [7] eval",
      "   @ ./boot.jl:373 [inlined]",
      " [8] include_string(mapexpr::typeof(REPL.softscope), mod::Module, code::String, filename::String)",
      "   @ Base ./loading.jl:1196"
     ]
    }
   ],
   "source": [
    "x2 = rdmm_qr(A,b,N,g,1,100,0.1)[1]"
   ]
  },
  {
   "cell_type": "code",
   "execution_count": 15,
   "id": "a997d308",
   "metadata": {},
   "outputs": [
    {
     "data": {
      "text/plain": [
       "2.1997714148504253"
      ]
     },
     "execution_count": 15,
     "metadata": {},
     "output_type": "execute_result"
    }
   ],
   "source": [
    "norm(b-A*x)"
   ]
  },
  {
   "cell_type": "code",
   "execution_count": 16,
   "id": "3b9ed3db",
   "metadata": {},
   "outputs": [
    {
     "data": {
      "text/plain": [
       "2.1997714148504253"
      ]
     },
     "execution_count": 16,
     "metadata": {},
     "output_type": "execute_result"
    }
   ],
   "source": [
    "norm(b-A*x2)"
   ]
  },
  {
   "cell_type": "code",
   "execution_count": 19,
   "id": "f173841e",
   "metadata": {},
   "outputs": [
    {
     "data": {
      "text/plain": [
       "2.1997714148504253"
      ]
     },
     "execution_count": 19,
     "metadata": {},
     "output_type": "execute_result"
    }
   ],
   "source": [
    "norm(b-A*x3)"
   ]
  },
  {
   "cell_type": "code",
   "execution_count": 18,
   "id": "81f6cda6",
   "metadata": {},
   "outputs": [
    {
     "data": {
      "text/plain": [
       "8×1 Matrix{Float64}:\n",
       " -0.1269021273126726\n",
       " -0.03503653669858101\n",
       "  0.49607093777436573\n",
       "  0.1906710384519284\n",
       "  0.19934746298729136\n",
       "  0.14807074881241702\n",
       "  0.08820013833758142\n",
       " -0.004765672696096342"
      ]
     },
     "execution_count": 18,
     "metadata": {},
     "output_type": "execute_result"
    }
   ],
   "source": [
    "x3 = rdmm_qr(A,b,N,100000,0.0001, rflag=false)[1]"
   ]
  },
  {
   "cell_type": "code",
   "execution_count": null,
   "id": "c4bef6fe",
   "metadata": {},
   "outputs": [],
   "source": []
  }
 ],
 "metadata": {
  "kernelspec": {
   "display_name": "Julia 1.6.3",
   "language": "julia",
   "name": "julia-1.6"
  },
  "language_info": {
   "file_extension": ".jl",
   "mimetype": "application/julia",
   "name": "julia",
   "version": "1.7.1"
  }
 },
 "nbformat": 4,
 "nbformat_minor": 5
}
