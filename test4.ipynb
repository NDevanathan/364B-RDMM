{
 "cells": [
  {
   "cell_type": "code",
   "execution_count": 64,
   "id": "4f24f3cd",
   "metadata": {},
   "outputs": [],
   "source": [
    "include(\"RDMM.jl\")\n",
    "using LinearAlgebra\n",
    "using Random\n",
    "using Convex\n",
    "using SCS"
   ]
  },
  {
   "cell_type": "code",
   "execution_count": 65,
   "id": "980a7391",
   "metadata": {},
   "outputs": [],
   "source": [
    "Random.seed!(1);"
   ]
  },
  {
   "cell_type": "code",
   "execution_count": 66,
   "id": "22299704",
   "metadata": {},
   "outputs": [
    {
     "data": {
      "text/plain": [
       "8-element Vector{Float64}:\n",
       " -0.04208122487795955\n",
       "  0.04554763037435944\n",
       "  0.029129974764458094\n",
       " -0.19969329253993476\n",
       " -0.09064406852377625\n",
       " -0.27245984370748705\n",
       " -0.24822686391673388\n",
       " -0.15414798920890194"
      ]
     },
     "execution_count": 66,
     "metadata": {},
     "output_type": "execute_result"
    }
   ],
   "source": [
    "n = 64\n",
    "d = 8\n",
    "N = 1\n",
    "\n",
    "A = rand(n, d)\n",
    "wx = rand(d, 1);\n",
    "wy = rand(n, 1);\n",
    "\n",
    "z = Variable(d)\n",
    "\n",
    "Atdag = A*inv(A'*A)\n",
    "b = Atdag*wx-wy\n",
    "\n",
    "prob = minimize(square(norm(A*z-b,2))+square(norm(z,2)))\n",
    "solve!(prob, SCS.Optimizer(verbose=false))\n",
    "\n",
    "zstar = evaluate(z)"
   ]
  },
  {
   "cell_type": "code",
   "execution_count": 67,
   "id": "83b26389",
   "metadata": {},
   "outputs": [
    {
     "data": {
      "text/plain": [
       "8×1 Matrix{Float64}:\n",
       " -0.04208122486449993\n",
       "  0.04554763039768791\n",
       "  0.029129974772354416\n",
       " -0.19969329251809614\n",
       " -0.09064406850826011\n",
       " -0.27245984368143816\n",
       " -0.24822686389188023\n",
       " -0.15414798919374906"
      ]
     },
     "execution_count": 67,
     "metadata": {},
     "output_type": "execute_result"
    }
   ],
   "source": [
    "x2 = rdmm_socp(A,wy,wx,N,1000,1)[1]"
   ]
  },
  {
   "cell_type": "code",
   "execution_count": null,
   "id": "3f1cce9c",
   "metadata": {},
   "outputs": [],
   "source": []
  },
  {
   "cell_type": "code",
   "execution_count": 68,
   "id": "a997d308",
   "metadata": {},
   "outputs": [
    {
     "ename": "LoadError",
     "evalue": "UndefVarError: x not defined",
     "output_type": "error",
     "traceback": [
      "UndefVarError: x not defined",
      "",
      "Stacktrace:",
      " [1] top-level scope",
      "   @ In[68]:1",
      " [2] eval",
      "   @ ./boot.jl:373 [inlined]",
      " [3] include_string(mapexpr::typeof(REPL.softscope), mod::Module, code::String, filename::String)",
      "   @ Base ./loading.jl:1196"
     ]
    }
   ],
   "source": [
    "norm(b-A*x)"
   ]
  },
  {
   "cell_type": "code",
   "execution_count": 69,
   "id": "3b9ed3db",
   "metadata": {},
   "outputs": [
    {
     "data": {
      "text/plain": [
       "2.3170647657870123"
      ]
     },
     "execution_count": 69,
     "metadata": {},
     "output_type": "execute_result"
    }
   ],
   "source": [
    "norm(b-A*x2)"
   ]
  },
  {
   "cell_type": "code",
   "execution_count": 70,
   "id": "f173841e",
   "metadata": {},
   "outputs": [
    {
     "data": {
      "text/plain": [
       "2.311962770014641"
      ]
     },
     "execution_count": 70,
     "metadata": {},
     "output_type": "execute_result"
    }
   ],
   "source": [
    "norm(b-A*x3)"
   ]
  },
  {
   "cell_type": "code",
   "execution_count": 42,
   "id": "81f6cda6",
   "metadata": {},
   "outputs": [
    {
     "ename": "LoadError",
     "evalue": "DimensionMismatch(\"\")",
     "output_type": "error",
     "traceback": [
      "DimensionMismatch(\"\")",
      "",
      "Stacktrace:",
      " [1] mul!(C::Matrix{Float64}, A::SparseArrays.SparseMatrixCSC{Float64, Int64}, B::Matrix{Float64}, α::Bool, β::Bool)",
      "   @ SparseArrays /usr/share/julia/stdlib/v1.7/SparseArrays/src/linalg.jl:31",
      " [2] *",
      "   @ /usr/share/julia/stdlib/v1.7/SparseArrays/src/linalg.jl:53 [inlined]",
      " [3] rdmm_socp(A::Matrix{Float64}, wy::Matrix{Float64}, wx::Matrix{Float64}, N::Int64, maxiter::Int64, mu::Int64; rflag::Bool)",
      "   @ Main ~/Fileshare/College/classwork/2022Spring/EE 364B/project/364B-rADMM/RDMM.jl:123",
      " [4] top-level scope",
      "   @ In[42]:1",
      " [5] eval",
      "   @ ./boot.jl:373 [inlined]",
      " [6] include_string(mapexpr::typeof(REPL.softscope), mod::Module, code::String, filename::String)",
      "   @ Base ./loading.jl:1196"
     ]
    }
   ],
   "source": [
    "x3 = rdmm_socp(A,wy,wx,N,100000,1, rflag=false)[1]"
   ]
  },
  {
   "cell_type": "code",
   "execution_count": null,
   "id": "c4bef6fe",
   "metadata": {},
   "outputs": [],
   "source": []
  }
 ],
 "metadata": {
  "kernelspec": {
   "display_name": "Julia 1.6.3",
   "language": "julia",
   "name": "julia-1.6"
  },
  "language_info": {
   "file_extension": ".jl",
   "mimetype": "application/julia",
   "name": "julia",
   "version": "1.7.1"
  }
 },
 "nbformat": 4,
 "nbformat_minor": 5
}
