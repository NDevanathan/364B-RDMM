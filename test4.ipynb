{
 "cells": [
  {
   "cell_type": "code",
   "execution_count": 21,
   "id": "4f24f3cd",
   "metadata": {},
   "outputs": [],
   "source": [
    "include(\"RDMM.jl\")\n",
    "using LinearAlgebra\n",
    "using Random\n",
    "using Convex\n",
    "using SCS"
   ]
  },
  {
   "cell_type": "code",
   "execution_count": 22,
   "id": "980a7391",
   "metadata": {},
   "outputs": [],
   "source": [
    "Random.seed!(1);"
   ]
  },
  {
   "cell_type": "code",
   "execution_count": 23,
   "id": "22299704",
   "metadata": {},
   "outputs": [
    {
     "data": {
      "text/plain": [
       "8-element Vector{Float64}:\n",
       " -0.04208122487795955\n",
       "  0.04554763037435944\n",
       "  0.029129974764458094\n",
       " -0.19969329253993476\n",
       " -0.09064406852377625\n",
       " -0.27245984370748705\n",
       " -0.24822686391673388\n",
       " -0.15414798920890194"
      ]
     },
     "execution_count": 23,
     "metadata": {},
     "output_type": "execute_result"
    }
   ],
   "source": [
    "n = 64\n",
    "d = 8\n",
    "N = 1\n",
    "\n",
    "A = rand(n, d)\n",
    "wx = rand(d, 1);\n",
    "wy = rand(n, 1);\n",
    "\n",
    "z = Variable(d)\n",
    "\n",
    "Atdag = A*inv(A'*A)\n",
    "b = Atdag*wx-wy\n",
    "\n",
    "prob = minimize(square(norm(A*z-b,2))+square(norm(z,2)))\n",
    "solve!(prob, SCS.Optimizer(verbose=false))\n",
    "\n",
    "zstar = evaluate(z)"
   ]
  },
  {
   "cell_type": "code",
   "execution_count": 26,
   "id": "83b26389",
   "metadata": {},
   "outputs": [
    {
     "ename": "LoadError",
     "evalue": "DimensionMismatch(\"arguments must have the same number of rows\")",
     "output_type": "error",
     "traceback": [
      "DimensionMismatch(\"arguments must have the same number of rows\")",
      "",
      "Stacktrace:",
      " [1] \\(F::LU{Float64, Matrix{Float64}}, B::Matrix{Float64})",
      "   @ LinearAlgebra /usr/share/julia/stdlib/v1.7/LinearAlgebra/src/LinearAlgebra.jl:430",
      " [2] \\(A::Matrix{Float64}, B::Matrix{Float64})",
      "   @ LinearAlgebra /usr/share/julia/stdlib/v1.7/LinearAlgebra/src/generic.jl:1142",
      " [3] rdmm_socp(A::Matrix{Float64}, wy::Matrix{Float64}, wx::Matrix{Float64}, N::Int64, maxiter::Int64, mu::Int64; rflag::Bool)",
      "   @ Main ~/Fileshare/College/classwork/2022Spring/EE 364B/project/364B-rADMM/RDMM.jl:128",
      " [4] rdmm_socp(A::Matrix{Float64}, wy::Matrix{Float64}, wx::Matrix{Float64}, N::Int64, maxiter::Int64, mu::Int64)",
      "   @ Main ~/Fileshare/College/classwork/2022Spring/EE 364B/project/364B-rADMM/RDMM.jl:117",
      " [5] top-level scope",
      "   @ In[26]:1",
      " [6] eval",
      "   @ ./boot.jl:373 [inlined]",
      " [7] include_string(mapexpr::typeof(REPL.softscope), mod::Module, code::String, filename::String)",
      "   @ Base ./loading.jl:1196"
     ]
    }
   ],
   "source": [
    "x2 = rdmm_socp(A,wy,wx,N,1000,1)[1]"
   ]
  },
  {
   "cell_type": "code",
   "execution_count": 13,
   "id": "a997d308",
   "metadata": {},
   "outputs": [
    {
     "ename": "LoadError",
     "evalue": "UndefVarError: x not defined",
     "output_type": "error",
     "traceback": [
      "UndefVarError: x not defined",
      "",
      "Stacktrace:",
      " [1] top-level scope",
      "   @ In[13]:1",
      " [2] eval",
      "   @ ./boot.jl:373 [inlined]",
      " [3] include_string(mapexpr::typeof(REPL.softscope), mod::Module, code::String, filename::String)",
      "   @ Base ./loading.jl:1196"
     ]
    }
   ],
   "source": [
    "norm(b-A*x)"
   ]
  },
  {
   "cell_type": "code",
   "execution_count": 16,
   "id": "3b9ed3db",
   "metadata": {},
   "outputs": [
    {
     "data": {
      "text/plain": [
       "2.1997714148504253"
      ]
     },
     "execution_count": 16,
     "metadata": {},
     "output_type": "execute_result"
    }
   ],
   "source": [
    "norm(b-A*x2)"
   ]
  },
  {
   "cell_type": "code",
   "execution_count": 19,
   "id": "f173841e",
   "metadata": {},
   "outputs": [
    {
     "data": {
      "text/plain": [
       "2.1997714148504253"
      ]
     },
     "execution_count": 19,
     "metadata": {},
     "output_type": "execute_result"
    }
   ],
   "source": [
    "norm(b-A*x3)"
   ]
  },
  {
   "cell_type": "code",
   "execution_count": 18,
   "id": "81f6cda6",
   "metadata": {},
   "outputs": [
    {
     "data": {
      "text/plain": [
       "8×1 Matrix{Float64}:\n",
       " -0.1269021273126726\n",
       " -0.03503653669858101\n",
       "  0.49607093777436573\n",
       "  0.1906710384519284\n",
       "  0.19934746298729136\n",
       "  0.14807074881241702\n",
       "  0.08820013833758142\n",
       " -0.004765672696096342"
      ]
     },
     "execution_count": 18,
     "metadata": {},
     "output_type": "execute_result"
    }
   ],
   "source": [
    "x3 = rdmm_ls(A,b,N,100000,0.0001, rflag=false)[1]"
   ]
  },
  {
   "cell_type": "code",
   "execution_count": null,
   "id": "c4bef6fe",
   "metadata": {},
   "outputs": [],
   "source": []
  }
 ],
 "metadata": {
  "kernelspec": {
   "display_name": "Julia 1.6.3",
   "language": "julia",
   "name": "julia-1.6"
  },
  "language_info": {
   "file_extension": ".jl",
   "mimetype": "application/julia",
   "name": "julia",
   "version": "1.7.1"
  }
 },
 "nbformat": 4,
 "nbformat_minor": 5
}
