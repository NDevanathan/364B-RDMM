{
 "cells": [
  {
   "cell_type": "code",
   "execution_count": 105,
   "id": "4f24f3cd",
   "metadata": {},
   "outputs": [],
   "source": [
    "include(\"RDMM.jl\")\n",
    "using LinearAlgebra\n",
    "using Random\n",
    "using Convex\n",
    "using SCS"
   ]
  },
  {
   "cell_type": "code",
   "execution_count": 106,
   "id": "980a7391",
   "metadata": {},
   "outputs": [],
   "source": [
    "Random.seed!(1);"
   ]
  },
  {
   "cell_type": "code",
   "execution_count": 107,
   "id": "22299704",
   "metadata": {},
   "outputs": [],
   "source": [
    "n = 64\n",
    "d = 8\n",
    "N = 2\n",
    "\n",
    "A = rand(n, d)\n",
    "wx = rand(d, 1);\n",
    "wy = rand(n, 1);\n",
    "\n",
    "z = Variable(d)\n",
    "\n",
    "Atdag = A*inv(A'*A)\n",
    "b = Atdag*wx-wy\n",
    "\n",
    "prob = minimize(square(norm(A*z-b,2))+square(norm(z,2)))\n",
    "solve!(prob, SCS.Optimizer(verbose=false))\n",
    "\n",
    "x = evaluate(z);"
   ]
  },
  {
   "cell_type": "code",
   "execution_count": 108,
   "id": "83b26389",
   "metadata": {},
   "outputs": [],
   "source": [
    "x2 = rdmm_socp(A,wy,wx,N,1000,1)[1];"
   ]
  },
  {
   "cell_type": "code",
   "execution_count": 109,
   "id": "d9eaf6b5",
   "metadata": {},
   "outputs": [],
   "source": [
    "x3 = rdmm_socp(A,wy,wx,N,1000,1, rflag=false)[1];"
   ]
  },
  {
   "cell_type": "code",
   "execution_count": 110,
   "id": "a997d308",
   "metadata": {},
   "outputs": [
    {
     "data": {
      "text/plain": [
       "2.317064765778103"
      ]
     },
     "execution_count": 110,
     "metadata": {},
     "output_type": "execute_result"
    }
   ],
   "source": [
    "norm(b-A*x)"
   ]
  },
  {
   "cell_type": "code",
   "execution_count": 111,
   "id": "3b9ed3db",
   "metadata": {},
   "outputs": [
    {
     "data": {
      "text/plain": [
       "2.840448429746488"
      ]
     },
     "execution_count": 111,
     "metadata": {},
     "output_type": "execute_result"
    }
   ],
   "source": [
    "norm(b-A*x2)"
   ]
  },
  {
   "cell_type": "code",
   "execution_count": 112,
   "id": "f173841e",
   "metadata": {},
   "outputs": [
    {
     "data": {
      "text/plain": [
       "2.34067339771032"
      ]
     },
     "execution_count": 112,
     "metadata": {},
     "output_type": "execute_result"
    }
   ],
   "source": [
    "norm(b-A*x3)"
   ]
  },
  {
   "cell_type": "code",
   "execution_count": null,
   "id": "81f6cda6",
   "metadata": {},
   "outputs": [],
   "source": []
  },
  {
   "cell_type": "code",
   "execution_count": null,
   "id": "c4bef6fe",
   "metadata": {},
   "outputs": [],
   "source": []
  }
 ],
 "metadata": {
  "kernelspec": {
   "display_name": "Julia 1.6.3",
   "language": "julia",
   "name": "julia-1.6"
  },
  "language_info": {
   "file_extension": ".jl",
   "mimetype": "application/julia",
   "name": "julia",
   "version": "1.7.1"
  }
 },
 "nbformat": 4,
 "nbformat_minor": 5
}
