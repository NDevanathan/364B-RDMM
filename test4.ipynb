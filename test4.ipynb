{
 "cells": [
  {
   "cell_type": "code",
   "execution_count": 43,
   "id": "4f24f3cd",
   "metadata": {},
   "outputs": [],
   "source": [
    "include(\"RDMM.jl\")\n",
    "using LinearAlgebra\n",
    "using Random\n",
    "using Convex\n",
    "using SCS"
   ]
  },
  {
   "cell_type": "code",
   "execution_count": 44,
   "id": "980a7391",
   "metadata": {},
   "outputs": [],
   "source": [
    "Random.seed!(1);"
   ]
  },
  {
   "cell_type": "code",
   "execution_count": 49,
   "id": "22299704",
   "metadata": {},
   "outputs": [
    {
     "data": {
      "text/plain": [
       "8-element Vector{Float64}:\n",
       "  0.1622948865058629\n",
       " -0.23721577936209712\n",
       " -0.19133237528119196\n",
       " -0.005996626525591905\n",
       " -0.2693986261794512\n",
       " -0.2716034353101735\n",
       " -0.06805061645017445\n",
       "  0.04494840621651684"
      ]
     },
     "execution_count": 49,
     "metadata": {},
     "output_type": "execute_result"
    }
   ],
   "source": [
    "n = 64\n",
    "d = 8\n",
    "N = 1\n",
    "\n",
    "A = rand(n, d)\n",
    "wx = rand(d, 1);\n",
    "wy = rand(n, 1);\n",
    "\n",
    "z = Variable(d)\n",
    "\n",
    "Atdag = A*inv(A'*A)\n",
    "b = Atdag*wx-wy\n",
    "\n",
    "prob = minimize(square(norm(A*z-b,2))+square(norm(z,2)))\n",
    "solve!(prob, SCS.Optimizer(verbose=false))\n",
    "\n",
    "zstar = evaluate(z)"
   ]
  },
  {
   "cell_type": "code",
   "execution_count": 51,
   "id": "00d78ffd",
   "metadata": {},
   "outputs": [
    {
     "data": {
      "text/plain": [
       "8×1 Matrix{Float64}:\n",
       " 12.732249176779296\n",
       " 12.775045705635737\n",
       " 14.807584192853062\n",
       " 14.228433836124974\n",
       " 15.44935766938088\n",
       " 14.812578451195899\n",
       " 13.983798910764136\n",
       " 12.652896268585065"
      ]
     },
     "execution_count": 51,
     "metadata": {},
     "output_type": "execute_result"
    }
   ],
   "source": [
    "(A'*wy-wx)/N"
   ]
  },
  {
   "cell_type": "code",
   "execution_count": 52,
   "id": "83b26389",
   "metadata": {},
   "outputs": [
    {
     "ename": "LoadError",
     "evalue": "DimensionMismatch(\"\")",
     "output_type": "error",
     "traceback": [
      "DimensionMismatch(\"\")",
      "",
      "Stacktrace:",
      " [1] mul!(C::Matrix{Float64}, xA::Adjoint{Float64, SparseArrays.SparseMatrixCSC{Float64, Int64}}, B::Matrix{Float64}, α::Bool, β::Bool)",
      "   @ SparseArrays /usr/share/julia/stdlib/v1.7/SparseArrays/src/linalg.jl:59",
      " [2] *",
      "   @ /usr/share/julia/stdlib/v1.7/SparseArrays/src/linalg.jl:81 [inlined]",
      " [3] rdmm_socp(A::Matrix{Float64}, wy::Matrix{Float64}, wx::Matrix{Float64}, N::Int64, maxiter::Int64, mu::Int64; rflag::Bool)",
      "   @ Main ~/Fileshare/College/classwork/2022Spring/EE 364B/project/364B-rADMM/RDMM.jl:124",
      " [4] rdmm_socp(A::Matrix{Float64}, wy::Matrix{Float64}, wx::Matrix{Float64}, N::Int64, maxiter::Int64, mu::Int64)",
      "   @ Main ~/Fileshare/College/classwork/2022Spring/EE 364B/project/364B-rADMM/RDMM.jl:118",
      " [5] top-level scope",
      "   @ In[52]:1",
      " [6] eval",
      "   @ ./boot.jl:373 [inlined]",
      " [7] include_string(mapexpr::typeof(REPL.softscope), mod::Module, code::String, filename::String)",
      "   @ Base ./loading.jl:1196"
     ]
    }
   ],
   "source": [
    "x2 = rdmm_socp(A,wy,wx,N,1000,1)[1]"
   ]
  },
  {
   "cell_type": "code",
   "execution_count": null,
   "id": "aa16ae9a",
   "metadata": {},
   "outputs": [],
   "source": []
  },
  {
   "cell_type": "code",
   "execution_count": 35,
   "id": "a997d308",
   "metadata": {},
   "outputs": [
    {
     "ename": "LoadError",
     "evalue": "UndefVarError: x not defined",
     "output_type": "error",
     "traceback": [
      "UndefVarError: x not defined",
      "",
      "Stacktrace:",
      " [1] top-level scope",
      "   @ In[35]:1",
      " [2] eval",
      "   @ ./boot.jl:373 [inlined]",
      " [3] include_string(mapexpr::typeof(REPL.softscope), mod::Module, code::String, filename::String)",
      "   @ Base ./loading.jl:1196"
     ]
    }
   ],
   "source": [
    "norm(b-A*x)"
   ]
  },
  {
   "cell_type": "code",
   "execution_count": 36,
   "id": "3b9ed3db",
   "metadata": {},
   "outputs": [
    {
     "ename": "LoadError",
     "evalue": "UndefVarError: x2 not defined",
     "output_type": "error",
     "traceback": [
      "UndefVarError: x2 not defined",
      "",
      "Stacktrace:",
      " [1] top-level scope",
      "   @ In[36]:1",
      " [2] eval",
      "   @ ./boot.jl:373 [inlined]",
      " [3] include_string(mapexpr::typeof(REPL.softscope), mod::Module, code::String, filename::String)",
      "   @ Base ./loading.jl:1196"
     ]
    }
   ],
   "source": [
    "norm(b-A*x2)"
   ]
  },
  {
   "cell_type": "code",
   "execution_count": 37,
   "id": "f173841e",
   "metadata": {},
   "outputs": [
    {
     "ename": "LoadError",
     "evalue": "UndefVarError: x3 not defined",
     "output_type": "error",
     "traceback": [
      "UndefVarError: x3 not defined",
      "",
      "Stacktrace:",
      " [1] top-level scope",
      "   @ In[37]:1",
      " [2] eval",
      "   @ ./boot.jl:373 [inlined]",
      " [3] include_string(mapexpr::typeof(REPL.softscope), mod::Module, code::String, filename::String)",
      "   @ Base ./loading.jl:1196"
     ]
    }
   ],
   "source": [
    "norm(b-A*x3)"
   ]
  },
  {
   "cell_type": "code",
   "execution_count": 42,
   "id": "81f6cda6",
   "metadata": {},
   "outputs": [
    {
     "ename": "LoadError",
     "evalue": "DimensionMismatch(\"\")",
     "output_type": "error",
     "traceback": [
      "DimensionMismatch(\"\")",
      "",
      "Stacktrace:",
      " [1] mul!(C::Matrix{Float64}, A::SparseArrays.SparseMatrixCSC{Float64, Int64}, B::Matrix{Float64}, α::Bool, β::Bool)",
      "   @ SparseArrays /usr/share/julia/stdlib/v1.7/SparseArrays/src/linalg.jl:31",
      " [2] *",
      "   @ /usr/share/julia/stdlib/v1.7/SparseArrays/src/linalg.jl:53 [inlined]",
      " [3] rdmm_socp(A::Matrix{Float64}, wy::Matrix{Float64}, wx::Matrix{Float64}, N::Int64, maxiter::Int64, mu::Int64; rflag::Bool)",
      "   @ Main ~/Fileshare/College/classwork/2022Spring/EE 364B/project/364B-rADMM/RDMM.jl:123",
      " [4] top-level scope",
      "   @ In[42]:1",
      " [5] eval",
      "   @ ./boot.jl:373 [inlined]",
      " [6] include_string(mapexpr::typeof(REPL.softscope), mod::Module, code::String, filename::String)",
      "   @ Base ./loading.jl:1196"
     ]
    }
   ],
   "source": [
    "x3 = rdmm_socp(A,wy,wx,N,100000,1, rflag=false)[1]"
   ]
  },
  {
   "cell_type": "code",
   "execution_count": null,
   "id": "c4bef6fe",
   "metadata": {},
   "outputs": [],
   "source": []
  }
 ],
 "metadata": {
  "kernelspec": {
   "display_name": "Julia 1.6.3",
   "language": "julia",
   "name": "julia-1.6"
  },
  "language_info": {
   "file_extension": ".jl",
   "mimetype": "application/julia",
   "name": "julia",
   "version": "1.7.1"
  }
 },
 "nbformat": 4,
 "nbformat_minor": 5
}
